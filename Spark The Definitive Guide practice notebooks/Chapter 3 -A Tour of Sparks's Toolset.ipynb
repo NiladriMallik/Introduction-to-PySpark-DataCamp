{
 "cells": [
  {
   "cell_type": "code",
   "execution_count": 0,
   "metadata": {
    "application/vnd.databricks.v1+cell": {
     "cellMetadata": {
      "byteLimit": 2048000,
      "rowLimit": 10000
     },
     "inputWidgets": {},
     "nuid": "17c2a489-b3cd-4bf1-aa97-67064a52febd",
     "showTitle": false,
     "tableResultSettingsMap": {},
     "title": ""
    }
   },
   "outputs": [],
   "source": [
    "from pyspark.sql import SparkSession\n",
    "from pyspark.sql.functions import window, column, desc, col"
   ]
  },
  {
   "cell_type": "code",
   "execution_count": 0,
   "metadata": {
    "application/vnd.databricks.v1+cell": {
     "cellMetadata": {
      "byteLimit": 2048000,
      "rowLimit": 10000
     },
     "inputWidgets": {},
     "nuid": "cbb15854-7b5f-460d-a5cb-4079154000ab",
     "showTitle": false,
     "tableResultSettingsMap": {},
     "title": ""
    }
   },
   "outputs": [
    {
     "output_type": "display_data",
     "data": {
      "text/html": [
       "<style scoped>\n",
       "  .table-result-container {\n",
       "    max-height: 300px;\n",
       "    overflow: auto;\n",
       "  }\n",
       "  table, th, td {\n",
       "    border: 1px solid black;\n",
       "    border-collapse: collapse;\n",
       "  }\n",
       "  th, td {\n",
       "    padding: 5px;\n",
       "  }\n",
       "  th {\n",
       "    text-align: left;\n",
       "  }\n",
       "</style><div class='table-result-container'><table class='table-result'><thead style='background-color: white'><tr><th>path</th><th>name</th><th>size</th><th>modificationTime</th></tr></thead><tbody><tr><td>dbfs:/FileStore/tables/retail-data/by-day/2010_12_01.csv</td><td>2010_12_01.csv</td><td>275001</td><td>1747917158000</td></tr><tr><td>dbfs:/FileStore/tables/retail-data/by-day/2010_12_02.csv</td><td>2010_12_02.csv</td><td>191826</td><td>1747917158000</td></tr><tr><td>dbfs:/FileStore/tables/retail-data/by-day/2010_12_03.csv</td><td>2010_12_03.csv</td><td>190700</td><td>1747917012000</td></tr><tr><td>dbfs:/FileStore/tables/retail-data/by-day/2010_12_05.csv</td><td>2010_12_05.csv</td><td>246056</td><td>1747917012000</td></tr><tr><td>dbfs:/FileStore/tables/retail-data/by-day/2010_12_06.csv</td><td>2010_12_06.csv</td><td>339039</td><td>1747917013000</td></tr><tr><td>dbfs:/FileStore/tables/retail-data/by-day/2010_12_07.csv</td><td>2010_12_07.csv</td><td>255832</td><td>1747917014000</td></tr><tr><td>dbfs:/FileStore/tables/retail-data/by-day/2010_12_08.csv</td><td>2010_12_08.csv</td><td>235974</td><td>1747917014000</td></tr><tr><td>dbfs:/FileStore/tables/retail-data/by-day/2010_12_09.csv</td><td>2010_12_09.csv</td><td>252904</td><td>1747917014000</td></tr><tr><td>dbfs:/FileStore/tables/retail-data/by-day/2010_12_10.csv</td><td>2010_12_10.csv</td><td>241468</td><td>1747917015000</td></tr><tr><td>dbfs:/FileStore/tables/retail-data/by-day/2010_12_12.csv</td><td>2010_12_12.csv</td><td>132120</td><td>1747917015000</td></tr><tr><td>dbfs:/FileStore/tables/retail-data/by-day/2010_12_13.csv</td><td>2010_12_13.csv</td><td>202021</td><td>1747917016000</td></tr><tr><td>dbfs:/FileStore/tables/retail-data/by-day/2010_12_14.csv</td><td>2010_12_14.csv</td><td>186685</td><td>1747917016000</td></tr><tr><td>dbfs:/FileStore/tables/retail-data/by-day/2010_12_15.csv</td><td>2010_12_15.csv</td><td>122496</td><td>1747917017000</td></tr><tr><td>dbfs:/FileStore/tables/retail-data/by-day/2010_12_16.csv</td><td>2010_12_16.csv</td><td>163452</td><td>1747917017000</td></tr><tr><td>dbfs:/FileStore/tables/retail-data/by-day/2010_12_17.csv</td><td>2010_12_17.csv</td><td>264944</td><td>1747917018000</td></tr><tr><td>dbfs:/FileStore/tables/retail-data/by-day/2010_12_19.csv</td><td>2010_12_19.csv</td><td>47264</td><td>1747917018000</td></tr><tr><td>dbfs:/FileStore/tables/retail-data/by-day/2010_12_20.csv</td><td>2010_12_20.csv</td><td>153561</td><td>1747917019000</td></tr><tr><td>dbfs:/FileStore/tables/retail-data/by-day/2010_12_21.csv</td><td>2010_12_21.csv</td><td>134904</td><td>1747917152000</td></tr><tr><td>dbfs:/FileStore/tables/retail-data/by-day/2010_12_22.csv</td><td>2010_12_22.csv</td><td>25836</td><td>1747917152000</td></tr><tr><td>dbfs:/FileStore/tables/retail-data/by-day/2010_12_23.csv</td><td>2010_12_23.csv</td><td>83192</td><td>1747917153000</td></tr><tr><td>dbfs:/FileStore/tables/retail-data/by-day/2011_01_04.csv</td><td>2011_01_04.csv</td><td>104656</td><td>1747917153000</td></tr><tr><td>dbfs:/FileStore/tables/retail-data/by-day/2011_01_05.csv</td><td>2011_01_05.csv</td><td>153733</td><td>1747917153000</td></tr><tr><td>dbfs:/FileStore/tables/retail-data/by-day/2011_01_06.csv</td><td>2011_01_06.csv</td><td>162100</td><td>1747917154000</td></tr><tr><td>dbfs:/FileStore/tables/retail-data/by-day/2011_01_07.csv</td><td>2011_01_07.csv</td><td>155938</td><td>1747917154000</td></tr><tr><td>dbfs:/FileStore/tables/retail-data/by-day/2011_01_09.csv</td><td>2011_01_09.csv</td><td>101317</td><td>1747917154000</td></tr><tr><td>dbfs:/FileStore/tables/retail-data/by-day/2011_01_10.csv</td><td>2011_01_10.csv</td><td>170418</td><td>1747917155000</td></tr><tr><td>dbfs:/FileStore/tables/retail-data/by-day/2011_01_11.csv</td><td>2011_01_11.csv</td><td>127847</td><td>1747917155000</td></tr><tr><td>dbfs:/FileStore/tables/retail-data/by-day/2011_01_12.csv</td><td>2011_01_12.csv</td><td>158187</td><td>1747917155000</td></tr><tr><td>dbfs:/FileStore/tables/retail-data/by-day/2011_01_13.csv</td><td>2011_01_13.csv</td><td>126109</td><td>1747917156000</td></tr><tr><td>dbfs:/FileStore/tables/retail-data/by-day/2011_01_14.csv</td><td>2011_01_14.csv</td><td>131086</td><td>1747917156000</td></tr><tr><td>dbfs:/FileStore/tables/retail-data/by-day/2011_01_16.csv</td><td>2011_01_16.csv</td><td>58906</td><td>1747917156000</td></tr><tr><td>dbfs:/FileStore/tables/retail-data/by-day/2011_01_17.csv</td><td>2011_01_17.csv</td><td>221821</td><td>1747917157000</td></tr><tr><td>dbfs:/FileStore/tables/retail-data/by-day/2011_01_18.csv</td><td>2011_01_18.csv</td><td>124711</td><td>1747917157000</td></tr><tr><td>dbfs:/FileStore/tables/retail-data/by-day/2011_01_19.csv</td><td>2011_01_19.csv</td><td>124865</td><td>1747917158000</td></tr><tr><td>dbfs:/FileStore/tables/retail-data/by-day/2011_01_20.csv</td><td>2011_01_20.csv</td><td>130157</td><td>1747917158000</td></tr><tr><td>dbfs:/FileStore/tables/retail-data/by-day/2011_01_21.csv</td><td>2011_01_21.csv</td><td>139157</td><td>1747917146000</td></tr><tr><td>dbfs:/FileStore/tables/retail-data/by-day/2011_01_23.csv</td><td>2011_01_23.csv</td><td>80012</td><td>1747917147000</td></tr><tr><td>dbfs:/FileStore/tables/retail-data/by-day/2011_01_24.csv</td><td>2011_01_24.csv</td><td>128813</td><td>1747917147000</td></tr><tr><td>dbfs:/FileStore/tables/retail-data/by-day/2011_01_25.csv</td><td>2011_01_25.csv</td><td>146739</td><td>1747917148000</td></tr><tr><td>dbfs:/FileStore/tables/retail-data/by-day/2011_01_26.csv</td><td>2011_01_26.csv</td><td>113985</td><td>1747917148000</td></tr><tr><td>dbfs:/FileStore/tables/retail-data/by-day/2011_01_27.csv</td><td>2011_01_27.csv</td><td>140033</td><td>1747917148000</td></tr><tr><td>dbfs:/FileStore/tables/retail-data/by-day/2011_01_28.csv</td><td>2011_01_28.csv</td><td>87450</td><td>1747917148000</td></tr><tr><td>dbfs:/FileStore/tables/retail-data/by-day/2011_01_30.csv</td><td>2011_01_30.csv</td><td>66171</td><td>1747917149000</td></tr><tr><td>dbfs:/FileStore/tables/retail-data/by-day/2011_01_31.csv</td><td>2011_01_31.csv</td><td>132774</td><td>1747917149000</td></tr><tr><td>dbfs:/FileStore/tables/retail-data/by-day/2011_02_01.csv</td><td>2011_02_01.csv</td><td>139954</td><td>1747917149000</td></tr><tr><td>dbfs:/FileStore/tables/retail-data/by-day/2011_02_02.csv</td><td>2011_02_02.csv</td><td>124794</td><td>1747917149000</td></tr><tr><td>dbfs:/FileStore/tables/retail-data/by-day/2011_02_03.csv</td><td>2011_02_03.csv</td><td>87779</td><td>1747917150000</td></tr><tr><td>dbfs:/FileStore/tables/retail-data/by-day/2011_02_04.csv</td><td>2011_02_04.csv</td><td>107014</td><td>1747917150000</td></tr><tr><td>dbfs:/FileStore/tables/retail-data/by-day/2011_02_06.csv</td><td>2011_02_06.csv</td><td>25516</td><td>1747917151000</td></tr><tr><td>dbfs:/FileStore/tables/retail-data/by-day/2011_02_07.csv</td><td>2011_02_07.csv</td><td>111980</td><td>1747917151000</td></tr><tr><td>dbfs:/FileStore/tables/retail-data/by-day/2011_02_08.csv</td><td>2011_02_08.csv</td><td>107136</td><td>1747917151000</td></tr><tr><td>dbfs:/FileStore/tables/retail-data/by-day/2011_02_09.csv</td><td>2011_02_09.csv</td><td>75999</td><td>1747917151000</td></tr><tr><td>dbfs:/FileStore/tables/retail-data/by-day/2011_02_10.csv</td><td>2011_02_10.csv</td><td>70942</td><td>1747917152000</td></tr><tr><td>dbfs:/FileStore/tables/retail-data/by-day/2011_02_11.csv</td><td>2011_02_11.csv</td><td>83807</td><td>1747917140000</td></tr><tr><td>dbfs:/FileStore/tables/retail-data/by-day/2011_02_13.csv</td><td>2011_02_13.csv</td><td>57098</td><td>1747917141000</td></tr><tr><td>dbfs:/FileStore/tables/retail-data/by-day/2011_02_14.csv</td><td>2011_02_14.csv</td><td>97341</td><td>1747917141000</td></tr><tr><td>dbfs:/FileStore/tables/retail-data/by-day/2011_02_15.csv</td><td>2011_02_15.csv</td><td>117745</td><td>1747917141000</td></tr><tr><td>dbfs:/FileStore/tables/retail-data/by-day/2011_02_16.csv</td><td>2011_02_16.csv</td><td>106100</td><td>1747917141000</td></tr><tr><td>dbfs:/FileStore/tables/retail-data/by-day/2011_02_17.csv</td><td>2011_02_17.csv</td><td>150882</td><td>1747917142000</td></tr><tr><td>dbfs:/FileStore/tables/retail-data/by-day/2011_02_18.csv</td><td>2011_02_18.csv</td><td>75633</td><td>1747917142000</td></tr><tr><td>dbfs:/FileStore/tables/retail-data/by-day/2011_02_20.csv</td><td>2011_02_20.csv</td><td>78068</td><td>1747917143000</td></tr><tr><td>dbfs:/FileStore/tables/retail-data/by-day/2011_02_21.csv</td><td>2011_02_21.csv</td><td>124088</td><td>1747917143000</td></tr><tr><td>dbfs:/FileStore/tables/retail-data/by-day/2011_02_22.csv</td><td>2011_02_22.csv</td><td>142089</td><td>1747917143000</td></tr><tr><td>dbfs:/FileStore/tables/retail-data/by-day/2011_02_23.csv</td><td>2011_02_23.csv</td><td>138337</td><td>1747917143000</td></tr><tr><td>dbfs:/FileStore/tables/retail-data/by-day/2011_02_24.csv</td><td>2011_02_24.csv</td><td>116769</td><td>1747917144000</td></tr><tr><td>dbfs:/FileStore/tables/retail-data/by-day/2011_02_25.csv</td><td>2011_02_25.csv</td><td>87507</td><td>1747917144000</td></tr><tr><td>dbfs:/FileStore/tables/retail-data/by-day/2011_02_27.csv</td><td>2011_02_27.csv</td><td>74111</td><td>1747917145000</td></tr><tr><td>dbfs:/FileStore/tables/retail-data/by-day/2011_02_28.csv</td><td>2011_02_28.csv</td><td>151947</td><td>1747917145000</td></tr><tr><td>dbfs:/FileStore/tables/retail-data/by-day/2011_03_01.csv</td><td>2011_03_01.csv</td><td>119793</td><td>1747917146000</td></tr><tr><td>dbfs:/FileStore/tables/retail-data/by-day/2011_03_02.csv</td><td>2011_03_02.csv</td><td>85302</td><td>1747917146000</td></tr><tr><td>dbfs:/FileStore/tables/retail-data/by-day/2011_03_03.csv</td><td>2011_03_03.csv</td><td>122010</td><td>1747917146000</td></tr><tr><td>dbfs:/FileStore/tables/retail-data/by-day/2011_03_04.csv</td><td>2011_03_04.csv</td><td>97942</td><td>1747917135000</td></tr><tr><td>dbfs:/FileStore/tables/retail-data/by-day/2011_03_06.csv</td><td>2011_03_06.csv</td><td>76977</td><td>1747917135000</td></tr><tr><td>dbfs:/FileStore/tables/retail-data/by-day/2011_03_07.csv</td><td>2011_03_07.csv</td><td>172784</td><td>1747917135000</td></tr><tr><td>dbfs:/FileStore/tables/retail-data/by-day/2011_03_08.csv</td><td>2011_03_08.csv</td><td>141880</td><td>1747917136000</td></tr><tr><td>dbfs:/FileStore/tables/retail-data/by-day/2011_03_09.csv</td><td>2011_03_09.csv</td><td>113715</td><td>1747917136000</td></tr><tr><td>dbfs:/FileStore/tables/retail-data/by-day/2011_03_10.csv</td><td>2011_03_10.csv</td><td>100881</td><td>1747917136000</td></tr><tr><td>dbfs:/FileStore/tables/retail-data/by-day/2011_03_11.csv</td><td>2011_03_11.csv</td><td>84393</td><td>1747917136000</td></tr><tr><td>dbfs:/FileStore/tables/retail-data/by-day/2011_03_13.csv</td><td>2011_03_13.csv</td><td>48917</td><td>1747917137000</td></tr><tr><td>dbfs:/FileStore/tables/retail-data/by-day/2011_03_14.csv</td><td>2011_03_14.csv</td><td>99595</td><td>1747917137000</td></tr><tr><td>dbfs:/FileStore/tables/retail-data/by-day/2011_03_15.csv</td><td>2011_03_15.csv</td><td>112853</td><td>1747917138000</td></tr><tr><td>dbfs:/FileStore/tables/retail-data/by-day/2011_03_16.csv</td><td>2011_03_16.csv</td><td>78923</td><td>1747917138000</td></tr><tr><td>dbfs:/FileStore/tables/retail-data/by-day/2011_03_17.csv</td><td>2011_03_17.csv</td><td>180245</td><td>1747917138000</td></tr><tr><td>dbfs:/FileStore/tables/retail-data/by-day/2011_03_18.csv</td><td>2011_03_18.csv</td><td>122082</td><td>1747917138000</td></tr><tr><td>dbfs:/FileStore/tables/retail-data/by-day/2011_03_20.csv</td><td>2011_03_20.csv</td><td>130096</td><td>1747917139000</td></tr><tr><td>dbfs:/FileStore/tables/retail-data/by-day/2011_03_21.csv</td><td>2011_03_21.csv</td><td>96588</td><td>1747917139000</td></tr><tr><td>dbfs:/FileStore/tables/retail-data/by-day/2011_03_22.csv</td><td>2011_03_22.csv</td><td>206516</td><td>1747917139000</td></tr><tr><td>dbfs:/FileStore/tables/retail-data/by-day/2011_03_23.csv</td><td>2011_03_23.csv</td><td>116861</td><td>1747917140000</td></tr><tr><td>dbfs:/FileStore/tables/retail-data/by-day/2011_03_24.csv</td><td>2011_03_24.csv</td><td>141988</td><td>1747917140000</td></tr><tr><td>dbfs:/FileStore/tables/retail-data/by-day/2011_03_25.csv</td><td>2011_03_25.csv</td><td>122156</td><td>1747917129000</td></tr><tr><td>dbfs:/FileStore/tables/retail-data/by-day/2011_03_27.csv</td><td>2011_03_27.csv</td><td>67786</td><td>1747917129000</td></tr><tr><td>dbfs:/FileStore/tables/retail-data/by-day/2011_03_28.csv</td><td>2011_03_28.csv</td><td>147212</td><td>1747917129000</td></tr><tr><td>dbfs:/FileStore/tables/retail-data/by-day/2011_03_29.csv</td><td>2011_03_29.csv</td><td>173104</td><td>1747917129000</td></tr><tr><td>dbfs:/FileStore/tables/retail-data/by-day/2011_03_30.csv</td><td>2011_03_30.csv</td><td>141435</td><td>1747917130000</td></tr><tr><td>dbfs:/FileStore/tables/retail-data/by-day/2011_03_31.csv</td><td>2011_03_31.csv</td><td>152420</td><td>1747917130000</td></tr><tr><td>dbfs:/FileStore/tables/retail-data/by-day/2011_04_01.csv</td><td>2011_04_01.csv</td><td>112493</td><td>1747917131000</td></tr><tr><td>dbfs:/FileStore/tables/retail-data/by-day/2011_04_03.csv</td><td>2011_04_03.csv</td><td>66518</td><td>1747917131000</td></tr><tr><td>dbfs:/FileStore/tables/retail-data/by-day/2011_04_04.csv</td><td>2011_04_04.csv</td><td>150711</td><td>1747917131000</td></tr><tr><td>dbfs:/FileStore/tables/retail-data/by-day/2011_04_05.csv</td><td>2011_04_05.csv</td><td>107560</td><td>1747917131000</td></tr><tr><td>dbfs:/FileStore/tables/retail-data/by-day/2011_04_06.csv</td><td>2011_04_06.csv</td><td>98068</td><td>1747917132000</td></tr><tr><td>dbfs:/FileStore/tables/retail-data/by-day/2011_04_07.csv</td><td>2011_04_07.csv</td><td>136252</td><td>1747917132000</td></tr><tr><td>dbfs:/FileStore/tables/retail-data/by-day/2011_04_08.csv</td><td>2011_04_08.csv</td><td>125969</td><td>1747917133000</td></tr><tr><td>dbfs:/FileStore/tables/retail-data/by-day/2011_04_10.csv</td><td>2011_04_10.csv</td><td>85637</td><td>1747917133000</td></tr><tr><td>dbfs:/FileStore/tables/retail-data/by-day/2011_04_11.csv</td><td>2011_04_11.csv</td><td>112516</td><td>1747917133000</td></tr><tr><td>dbfs:/FileStore/tables/retail-data/by-day/2011_04_12.csv</td><td>2011_04_12.csv</td><td>104116</td><td>1747917133000</td></tr><tr><td>dbfs:/FileStore/tables/retail-data/by-day/2011_04_13.csv</td><td>2011_04_13.csv</td><td>95007</td><td>1747917134000</td></tr><tr><td>dbfs:/FileStore/tables/retail-data/by-day/2011_04_14.csv</td><td>2011_04_14.csv</td><td>144236</td><td>1747917134000</td></tr><tr><td>dbfs:/FileStore/tables/retail-data/by-day/2011_04_15.csv</td><td>2011_04_15.csv</td><td>128980</td><td>1747917135000</td></tr><tr><td>dbfs:/FileStore/tables/retail-data/by-day/2011_04_17.csv</td><td>2011_04_17.csv</td><td>87658</td><td>1747917122000</td></tr><tr><td>dbfs:/FileStore/tables/retail-data/by-day/2011_04_18.csv</td><td>2011_04_18.csv</td><td>280118</td><td>1747917122000</td></tr><tr><td>dbfs:/FileStore/tables/retail-data/by-day/2011_04_19.csv</td><td>2011_04_19.csv</td><td>165965</td><td>1747917123000</td></tr><tr><td>dbfs:/FileStore/tables/retail-data/by-day/2011_04_20.csv</td><td>2011_04_20.csv</td><td>91865</td><td>1747917123000</td></tr><tr><td>dbfs:/FileStore/tables/retail-data/by-day/2011_04_21.csv</td><td>2011_04_21.csv</td><td>170023</td><td>1747917123000</td></tr><tr><td>dbfs:/FileStore/tables/retail-data/by-day/2011_04_26.csv</td><td>2011_04_26.csv</td><td>167480</td><td>1747917124000</td></tr><tr><td>dbfs:/FileStore/tables/retail-data/by-day/2011_04_27.csv</td><td>2011_04_27.csv</td><td>116613</td><td>1747917124000</td></tr><tr><td>dbfs:/FileStore/tables/retail-data/by-day/2011_04_28.csv</td><td>2011_04_28.csv</td><td>106481</td><td>1747917125000</td></tr><tr><td>dbfs:/FileStore/tables/retail-data/by-day/2011_05_01.csv</td><td>2011_05_01.csv</td><td>40884</td><td>1747917125000</td></tr><tr><td>dbfs:/FileStore/tables/retail-data/by-day/2011_05_03.csv</td><td>2011_05_03.csv</td><td>126563</td><td>1747917125000</td></tr><tr><td>dbfs:/FileStore/tables/retail-data/by-day/2011_05_04.csv</td><td>2011_05_04.csv</td><td>105162</td><td>1747917125000</td></tr><tr><td>dbfs:/FileStore/tables/retail-data/by-day/2011_05_05.csv</td><td>2011_05_05.csv</td><td>162318</td><td>1747917126000</td></tr><tr><td>dbfs:/FileStore/tables/retail-data/by-day/2011_05_06.csv</td><td>2011_05_06.csv</td><td>180297</td><td>1747917127000</td></tr><tr><td>dbfs:/FileStore/tables/retail-data/by-day/2011_05_08.csv</td><td>2011_05_08.csv</td><td>136006</td><td>1747917127000</td></tr><tr><td>dbfs:/FileStore/tables/retail-data/by-day/2011_05_09.csv</td><td>2011_05_09.csv</td><td>154043</td><td>1747917127000</td></tr><tr><td>dbfs:/FileStore/tables/retail-data/by-day/2011_05_10.csv</td><td>2011_05_10.csv</td><td>224383</td><td>1747917127000</td></tr><tr><td>dbfs:/FileStore/tables/retail-data/by-day/2011_05_11.csv</td><td>2011_05_11.csv</td><td>151121</td><td>1747917128000</td></tr><tr><td>dbfs:/FileStore/tables/retail-data/by-day/2011_05_12.csv</td><td>2011_05_12.csv</td><td>175096</td><td>1747917128000</td></tr><tr><td>dbfs:/FileStore/tables/retail-data/by-day/2011_05_13.csv</td><td>2011_05_13.csv</td><td>125524</td><td>1747917116000</td></tr><tr><td>dbfs:/FileStore/tables/retail-data/by-day/2011_05_15.csv</td><td>2011_05_15.csv</td><td>73038</td><td>1747917116000</td></tr><tr><td>dbfs:/FileStore/tables/retail-data/by-day/2011_05_16.csv</td><td>2011_05_16.csv</td><td>140801</td><td>1747917117000</td></tr><tr><td>dbfs:/FileStore/tables/retail-data/by-day/2011_05_17.csv</td><td>2011_05_17.csv</td><td>168847</td><td>1747917117000</td></tr><tr><td>dbfs:/FileStore/tables/retail-data/by-day/2011_05_18.csv</td><td>2011_05_18.csv</td><td>121774</td><td>1747917117000</td></tr><tr><td>dbfs:/FileStore/tables/retail-data/by-day/2011_05_19.csv</td><td>2011_05_19.csv</td><td>172737</td><td>1747917118000</td></tr><tr><td>dbfs:/FileStore/tables/retail-data/by-day/2011_05_20.csv</td><td>2011_05_20.csv</td><td>100198</td><td>1747917118000</td></tr><tr><td>dbfs:/FileStore/tables/retail-data/by-day/2011_05_22.csv</td><td>2011_05_22.csv</td><td>141114</td><td>1747917118000</td></tr><tr><td>dbfs:/FileStore/tables/retail-data/by-day/2011_05_23.csv</td><td>2011_05_23.csv</td><td>144869</td><td>1747917119000</td></tr><tr><td>dbfs:/FileStore/tables/retail-data/by-day/2011_05_24.csv</td><td>2011_05_24.csv</td><td>153615</td><td>1747917119000</td></tr><tr><td>dbfs:/FileStore/tables/retail-data/by-day/2011_05_25.csv</td><td>2011_05_25.csv</td><td>116151</td><td>1747917119000</td></tr><tr><td>dbfs:/FileStore/tables/retail-data/by-day/2011_05_26.csv</td><td>2011_05_26.csv</td><td>86137</td><td>1747917120000</td></tr><tr><td>dbfs:/FileStore/tables/retail-data/by-day/2011_05_27.csv</td><td>2011_05_27.csv</td><td>103064</td><td>1747917120000</td></tr><tr><td>dbfs:/FileStore/tables/retail-data/by-day/2011_05_29.csv</td><td>2011_05_29.csv</td><td>57243</td><td>1747917120000</td></tr><tr><td>dbfs:/FileStore/tables/retail-data/by-day/2011_05_31.csv</td><td>2011_05_31.csv</td><td>112113</td><td>1747917120000</td></tr><tr><td>dbfs:/FileStore/tables/retail-data/by-day/2011_06_01.csv</td><td>2011_06_01.csv</td><td>126676</td><td>1747917121000</td></tr><tr><td>dbfs:/FileStore/tables/retail-data/by-day/2011_06_02.csv</td><td>2011_06_02.csv</td><td>139233</td><td>1747917121000</td></tr><tr><td>dbfs:/FileStore/tables/retail-data/by-day/2011_06_03.csv</td><td>2011_06_03.csv</td><td>75454</td><td>1747917121000</td></tr><tr><td>dbfs:/FileStore/tables/retail-data/by-day/2011_06_05.csv</td><td>2011_06_05.csv</td><td>140061</td><td>1747917122000</td></tr><tr><td>dbfs:/FileStore/tables/retail-data/by-day/2011_06_06.csv</td><td>2011_06_06.csv</td><td>109829</td><td>1747917109000</td></tr><tr><td>dbfs:/FileStore/tables/retail-data/by-day/2011_06_07.csv</td><td>2011_06_07.csv</td><td>171241</td><td>1747917109000</td></tr><tr><td>dbfs:/FileStore/tables/retail-data/by-day/2011_06_08.csv</td><td>2011_06_08.csv</td><td>203086</td><td>1747917110000</td></tr><tr><td>dbfs:/FileStore/tables/retail-data/by-day/2011_06_09.csv</td><td>2011_06_09.csv</td><td>162227</td><td>1747917110000</td></tr><tr><td>dbfs:/FileStore/tables/retail-data/by-day/2011_06_10.csv</td><td>2011_06_10.csv</td><td>93701</td><td>1747917111000</td></tr><tr><td>dbfs:/FileStore/tables/retail-data/by-day/2011_06_12.csv</td><td>2011_06_12.csv</td><td>97835</td><td>1747917111000</td></tr><tr><td>dbfs:/FileStore/tables/retail-data/by-day/2011_06_13.csv</td><td>2011_06_13.csv</td><td>129767</td><td>1747917111000</td></tr><tr><td>dbfs:/FileStore/tables/retail-data/by-day/2011_06_14.csv</td><td>2011_06_14.csv</td><td>140214</td><td>1747917111000</td></tr><tr><td>dbfs:/FileStore/tables/retail-data/by-day/2011_06_15.csv</td><td>2011_06_15.csv</td><td>151127</td><td>1747917112000</td></tr><tr><td>dbfs:/FileStore/tables/retail-data/by-day/2011_06_16.csv</td><td>2011_06_16.csv</td><td>136339</td><td>1747917112000</td></tr><tr><td>dbfs:/FileStore/tables/retail-data/by-day/2011_06_17.csv</td><td>2011_06_17.csv</td><td>85739</td><td>1747917112000</td></tr><tr><td>dbfs:/FileStore/tables/retail-data/by-day/2011_06_19.csv</td><td>2011_06_19.csv</td><td>105190</td><td>1747917113000</td></tr><tr><td>dbfs:/FileStore/tables/retail-data/by-day/2011_06_20.csv</td><td>2011_06_20.csv</td><td>175539</td><td>1747917114000</td></tr><tr><td>dbfs:/FileStore/tables/retail-data/by-day/2011_06_21.csv</td><td>2011_06_21.csv</td><td>134322</td><td>1747917114000</td></tr><tr><td>dbfs:/FileStore/tables/retail-data/by-day/2011_06_22.csv</td><td>2011_06_22.csv</td><td>91369</td><td>1747917114000</td></tr><tr><td>dbfs:/FileStore/tables/retail-data/by-day/2011_06_23.csv</td><td>2011_06_23.csv</td><td>175463</td><td>1747917114000</td></tr><tr><td>dbfs:/FileStore/tables/retail-data/by-day/2011_06_24.csv</td><td>2011_06_24.csv</td><td>91308</td><td>1747917115000</td></tr><tr><td>dbfs:/FileStore/tables/retail-data/by-day/2011_06_26.csv</td><td>2011_06_26.csv</td><td>64579</td><td>1747917115000</td></tr><tr><td>dbfs:/FileStore/tables/retail-data/by-day/2011_06_27.csv</td><td>2011_06_27.csv</td><td>104370</td><td>1747917103000</td></tr><tr><td>dbfs:/FileStore/tables/retail-data/by-day/2011_06_28.csv</td><td>2011_06_28.csv</td><td>92153</td><td>1747917103000</td></tr><tr><td>dbfs:/FileStore/tables/retail-data/by-day/2011_06_29.csv</td><td>2011_06_29.csv</td><td>117488</td><td>1747917104000</td></tr><tr><td>dbfs:/FileStore/tables/retail-data/by-day/2011_06_30.csv</td><td>2011_06_30.csv</td><td>143253</td><td>1747917104000</td></tr><tr><td>dbfs:/FileStore/tables/retail-data/by-day/2011_07_01.csv</td><td>2011_07_01.csv</td><td>90752</td><td>1747917104000</td></tr><tr><td>dbfs:/FileStore/tables/retail-data/by-day/2011_07_03.csv</td><td>2011_07_03.csv</td><td>54798</td><td>1747917105000</td></tr><tr><td>dbfs:/FileStore/tables/retail-data/by-day/2011_07_04.csv</td><td>2011_07_04.csv</td><td>189204</td><td>1747917105000</td></tr><tr><td>dbfs:/FileStore/tables/retail-data/by-day/2011_07_05.csv</td><td>2011_07_05.csv</td><td>189831</td><td>1747917105000</td></tr><tr><td>dbfs:/FileStore/tables/retail-data/by-day/2011_07_06.csv</td><td>2011_07_06.csv</td><td>159436</td><td>1747917106000</td></tr><tr><td>dbfs:/FileStore/tables/retail-data/by-day/2011_07_07.csv</td><td>2011_07_07.csv</td><td>171634</td><td>1747917106000</td></tr><tr><td>dbfs:/FileStore/tables/retail-data/by-day/2011_07_08.csv</td><td>2011_07_08.csv</td><td>140138</td><td>1747917106000</td></tr><tr><td>dbfs:/FileStore/tables/retail-data/by-day/2011_07_10.csv</td><td>2011_07_10.csv</td><td>74191</td><td>1747917107000</td></tr><tr><td>dbfs:/FileStore/tables/retail-data/by-day/2011_07_11.csv</td><td>2011_07_11.csv</td><td>133475</td><td>1747917107000</td></tr><tr><td>dbfs:/FileStore/tables/retail-data/by-day/2011_07_12.csv</td><td>2011_07_12.csv</td><td>144196</td><td>1747917107000</td></tr><tr><td>dbfs:/FileStore/tables/retail-data/by-day/2011_07_13.csv</td><td>2011_07_13.csv</td><td>144027</td><td>1747917107000</td></tr><tr><td>dbfs:/FileStore/tables/retail-data/by-day/2011_07_14.csv</td><td>2011_07_14.csv</td><td>153670</td><td>1747917108000</td></tr><tr><td>dbfs:/FileStore/tables/retail-data/by-day/2011_07_15.csv</td><td>2011_07_15.csv</td><td>99926</td><td>1747917108000</td></tr><tr><td>dbfs:/FileStore/tables/retail-data/by-day/2011_07_17.csv</td><td>2011_07_17.csv</td><td>112983</td><td>1747917108000</td></tr><tr><td>dbfs:/FileStore/tables/retail-data/by-day/2011_07_18.csv</td><td>2011_07_18.csv</td><td>194171</td><td>1747917109000</td></tr><tr><td>dbfs:/FileStore/tables/retail-data/by-day/2011_07_19.csv</td><td>2011_07_19.csv</td><td>147143</td><td>1747917097000</td></tr><tr><td>dbfs:/FileStore/tables/retail-data/by-day/2011_07_20.csv</td><td>2011_07_20.csv</td><td>177416</td><td>1747917097000</td></tr><tr><td>dbfs:/FileStore/tables/retail-data/by-day/2011_07_21.csv</td><td>2011_07_21.csv</td><td>140592</td><td>1747917097000</td></tr><tr><td>dbfs:/FileStore/tables/retail-data/by-day/2011_07_22.csv</td><td>2011_07_22.csv</td><td>113759</td><td>1747917098000</td></tr><tr><td>dbfs:/FileStore/tables/retail-data/by-day/2011_07_24.csv</td><td>2011_07_24.csv</td><td>101031</td><td>1747917098000</td></tr><tr><td>dbfs:/FileStore/tables/retail-data/by-day/2011_07_25.csv</td><td>2011_07_25.csv</td><td>170093</td><td>1747917098000</td></tr><tr><td>dbfs:/FileStore/tables/retail-data/by-day/2011_07_26.csv</td><td>2011_07_26.csv</td><td>112780</td><td>1747917099000</td></tr><tr><td>dbfs:/FileStore/tables/retail-data/by-day/2011_07_27.csv</td><td>2011_07_27.csv</td><td>109514</td><td>1747917099000</td></tr><tr><td>dbfs:/FileStore/tables/retail-data/by-day/2011_07_28.csv</td><td>2011_07_28.csv</td><td>138826</td><td>1747917099000</td></tr><tr><td>dbfs:/FileStore/tables/retail-data/by-day/2011_07_29.csv</td><td>2011_07_29.csv</td><td>101094</td><td>1747917100000</td></tr><tr><td>dbfs:/FileStore/tables/retail-data/by-day/2011_07_31.csv</td><td>2011_07_31.csv</td><td>114650</td><td>1747917100000</td></tr><tr><td>dbfs:/FileStore/tables/retail-data/by-day/2011_08_01.csv</td><td>2011_08_01.csv</td><td>107491</td><td>1747917100000</td></tr><tr><td>dbfs:/FileStore/tables/retail-data/by-day/2011_08_02.csv</td><td>2011_08_02.csv</td><td>120138</td><td>1747917101000</td></tr><tr><td>dbfs:/FileStore/tables/retail-data/by-day/2011_08_03.csv</td><td>2011_08_03.csv</td><td>140576</td><td>1747917101000</td></tr><tr><td>dbfs:/FileStore/tables/retail-data/by-day/2011_08_04.csv</td><td>2011_08_04.csv</td><td>162548</td><td>1747917102000</td></tr><tr><td>dbfs:/FileStore/tables/retail-data/by-day/2011_08_05.csv</td><td>2011_08_05.csv</td><td>127923</td><td>1747917102000</td></tr><tr><td>dbfs:/FileStore/tables/retail-data/by-day/2011_08_07.csv</td><td>2011_08_07.csv</td><td>49245</td><td>1747917102000</td></tr><tr><td>dbfs:/FileStore/tables/retail-data/by-day/2011_08_08.csv</td><td>2011_08_08.csv</td><td>131650</td><td>1747917102000</td></tr><tr><td>dbfs:/FileStore/tables/retail-data/by-day/2011_08_09.csv</td><td>2011_08_09.csv</td><td>100002</td><td>1747917103000</td></tr><tr><td>dbfs:/FileStore/tables/retail-data/by-day/2011_08_10.csv</td><td>2011_08_10.csv</td><td>120046</td><td>1747917089000</td></tr><tr><td>dbfs:/FileStore/tables/retail-data/by-day/2011_08_11.csv</td><td>2011_08_11.csv</td><td>175951</td><td>1747917090000</td></tr><tr><td>dbfs:/FileStore/tables/retail-data/by-day/2011_08_12.csv</td><td>2011_08_12.csv</td><td>97516</td><td>1747917090000</td></tr><tr><td>dbfs:/FileStore/tables/retail-data/by-day/2011_08_14.csv</td><td>2011_08_14.csv</td><td>50684</td><td>1747917091000</td></tr><tr><td>dbfs:/FileStore/tables/retail-data/by-day/2011_08_15.csv</td><td>2011_08_15.csv</td><td>82959</td><td>1747917091000</td></tr><tr><td>dbfs:/FileStore/tables/retail-data/by-day/2011_08_16.csv</td><td>2011_08_16.csv</td><td>92486</td><td>1747917091000</td></tr><tr><td>dbfs:/FileStore/tables/retail-data/by-day/2011_08_17.csv</td><td>2011_08_17.csv</td><td>148605</td><td>1747917092000</td></tr><tr><td>dbfs:/FileStore/tables/retail-data/by-day/2011_08_18.csv</td><td>2011_08_18.csv</td><td>137689</td><td>1747917092000</td></tr><tr><td>dbfs:/FileStore/tables/retail-data/by-day/2011_08_19.csv</td><td>2011_08_19.csv</td><td>72940</td><td>1747917093000</td></tr><tr><td>dbfs:/FileStore/tables/retail-data/by-day/2011_08_21.csv</td><td>2011_08_21.csv</td><td>97031</td><td>1747917093000</td></tr><tr><td>dbfs:/FileStore/tables/retail-data/by-day/2011_08_22.csv</td><td>2011_08_22.csv</td><td>114812</td><td>1747917094000</td></tr><tr><td>dbfs:/FileStore/tables/retail-data/by-day/2011_08_23.csv</td><td>2011_08_23.csv</td><td>130326</td><td>1747917094000</td></tr><tr><td>dbfs:/FileStore/tables/retail-data/by-day/2011_08_24.csv</td><td>2011_08_24.csv</td><td>167436</td><td>1747917095000</td></tr><tr><td>dbfs:/FileStore/tables/retail-data/by-day/2011_08_25.csv</td><td>2011_08_25.csv</td><td>118982</td><td>1747917095000</td></tr><tr><td>dbfs:/FileStore/tables/retail-data/by-day/2011_08_26.csv</td><td>2011_08_26.csv</td><td>82531</td><td>1747917095000</td></tr><tr><td>dbfs:/FileStore/tables/retail-data/by-day/2011_08_28.csv</td><td>2011_08_28.csv</td><td>107760</td><td>1747917095000</td></tr><tr><td>dbfs:/FileStore/tables/retail-data/by-day/2011_08_30.csv</td><td>2011_08_30.csv</td><td>274692</td><td>1747917096000</td></tr><tr><td>dbfs:/FileStore/tables/retail-data/by-day/2011_08_31.csv</td><td>2011_08_31.csv</td><td>113373</td><td>1747917096000</td></tr><tr><td>dbfs:/FileStore/tables/retail-data/by-day/2011_09_01.csv</td><td>2011_09_01.csv</td><td>127664</td><td>1747917080000</td></tr><tr><td>dbfs:/FileStore/tables/retail-data/by-day/2011_09_02.csv</td><td>2011_09_02.csv</td><td>205036</td><td>1747917081000</td></tr><tr><td>dbfs:/FileStore/tables/retail-data/by-day/2011_09_04.csv</td><td>2011_09_04.csv</td><td>120645</td><td>1747917081000</td></tr><tr><td>dbfs:/FileStore/tables/retail-data/by-day/2011_09_05.csv</td><td>2011_09_05.csv</td><td>141625</td><td>1747917082000</td></tr><tr><td>dbfs:/FileStore/tables/retail-data/by-day/2011_09_06.csv</td><td>2011_09_06.csv</td><td>102669</td><td>1747917082000</td></tr><tr><td>dbfs:/FileStore/tables/retail-data/by-day/2011_09_07.csv</td><td>2011_09_07.csv</td><td>181656</td><td>1747917082000</td></tr><tr><td>dbfs:/FileStore/tables/retail-data/by-day/2011_09_08.csv</td><td>2011_09_08.csv</td><td>156826</td><td>1747917083000</td></tr><tr><td>dbfs:/FileStore/tables/retail-data/by-day/2011_09_09.csv</td><td>2011_09_09.csv</td><td>142210</td><td>1747917083000</td></tr><tr><td>dbfs:/FileStore/tables/retail-data/by-day/2011_09_11.csv</td><td>2011_09_11.csv</td><td>185196</td><td>1747917083000</td></tr><tr><td>dbfs:/FileStore/tables/retail-data/by-day/2011_09_12.csv</td><td>2011_09_12.csv</td><td>154124</td><td>1747917084000</td></tr><tr><td>dbfs:/FileStore/tables/retail-data/by-day/2011_09_13.csv</td><td>2011_09_13.csv</td><td>217571</td><td>1747917085000</td></tr><tr><td>dbfs:/FileStore/tables/retail-data/by-day/2011_09_14.csv</td><td>2011_09_14.csv</td><td>123164</td><td>1747917085000</td></tr><tr><td>dbfs:/FileStore/tables/retail-data/by-day/2011_09_15.csv</td><td>2011_09_15.csv</td><td>195419</td><td>1747917086000</td></tr><tr><td>dbfs:/FileStore/tables/retail-data/by-day/2011_09_16.csv</td><td>2011_09_16.csv</td><td>131715</td><td>1747917086000</td></tr><tr><td>dbfs:/FileStore/tables/retail-data/by-day/2011_09_18.csv</td><td>2011_09_18.csv</td><td>116452</td><td>1747917087000</td></tr><tr><td>dbfs:/FileStore/tables/retail-data/by-day/2011_09_19.csv</td><td>2011_09_19.csv</td><td>128010</td><td>1747917088000</td></tr><tr><td>dbfs:/FileStore/tables/retail-data/by-day/2011_09_20.csv</td><td>2011_09_20.csv</td><td>153186</td><td>1747917088000</td></tr><tr><td>dbfs:/FileStore/tables/retail-data/by-day/2011_09_21.csv</td><td>2011_09_21.csv</td><td>272947</td><td>1747917089000</td></tr><tr><td>dbfs:/FileStore/tables/retail-data/by-day/2011_09_22.csv</td><td>2011_09_22.csv</td><td>246699</td><td>1747917072000</td></tr><tr><td>dbfs:/FileStore/tables/retail-data/by-day/2011_09_23.csv</td><td>2011_09_23.csv</td><td>233544</td><td>1747917072000</td></tr><tr><td>dbfs:/FileStore/tables/retail-data/by-day/2011_09_25.csv</td><td>2011_09_25.csv</td><td>182072</td><td>1747917073000</td></tr><tr><td>dbfs:/FileStore/tables/retail-data/by-day/2011_09_26.csv</td><td>2011_09_26.csv</td><td>141083</td><td>1747917073000</td></tr><tr><td>dbfs:/FileStore/tables/retail-data/by-day/2011_09_27.csv</td><td>2011_09_27.csv</td><td>168998</td><td>1747917073000</td></tr><tr><td>dbfs:/FileStore/tables/retail-data/by-day/2011_09_28.csv</td><td>2011_09_28.csv</td><td>255103</td><td>1747917074000</td></tr><tr><td>dbfs:/FileStore/tables/retail-data/by-day/2011_09_29.csv</td><td>2011_09_29.csv</td><td>225953</td><td>1747917074000</td></tr><tr><td>dbfs:/FileStore/tables/retail-data/by-day/2011_09_30.csv</td><td>2011_09_30.csv</td><td>168344</td><td>1747917075000</td></tr><tr><td>dbfs:/FileStore/tables/retail-data/by-day/2011_10_02.csv</td><td>2011_10_02.csv</td><td>130864</td><td>1747917076000</td></tr><tr><td>dbfs:/FileStore/tables/retail-data/by-day/2011_10_03.csv</td><td>2011_10_03.csv</td><td>205031</td><td>1747917076000</td></tr><tr><td>dbfs:/FileStore/tables/retail-data/by-day/2011_10_04.csv</td><td>2011_10_04.csv</td><td>249521</td><td>1747917077000</td></tr><tr><td>dbfs:/FileStore/tables/retail-data/by-day/2011_10_05.csv</td><td>2011_10_05.csv</td><td>219340</td><td>1747917077000</td></tr><tr><td>dbfs:/FileStore/tables/retail-data/by-day/2011_10_06.csv</td><td>2011_10_06.csv</td><td>285739</td><td>1747917078000</td></tr><tr><td>dbfs:/FileStore/tables/retail-data/by-day/2011_10_07.csv</td><td>2011_10_07.csv</td><td>216893</td><td>1747917078000</td></tr><tr><td>dbfs:/FileStore/tables/retail-data/by-day/2011_10_09.csv</td><td>2011_10_09.csv</td><td>118425</td><td>1747917078000</td></tr><tr><td>dbfs:/FileStore/tables/retail-data/by-day/2011_10_10.csv</td><td>2011_10_10.csv</td><td>289700</td><td>1747917079000</td></tr><tr><td>dbfs:/FileStore/tables/retail-data/by-day/2011_10_11.csv</td><td>2011_10_11.csv</td><td>217528</td><td>1747917080000</td></tr><tr><td>dbfs:/FileStore/tables/retail-data/by-day/2011_10_12.csv</td><td>2011_10_12.csv</td><td>192765</td><td>1747917080000</td></tr><tr><td>dbfs:/FileStore/tables/retail-data/by-day/2011_10_13.csv</td><td>2011_10_13.csv</td><td>209708</td><td>1747917063000</td></tr><tr><td>dbfs:/FileStore/tables/retail-data/by-day/2011_10_14.csv</td><td>2011_10_14.csv</td><td>162184</td><td>1747917064000</td></tr><tr><td>dbfs:/FileStore/tables/retail-data/by-day/2011_10_16.csv</td><td>2011_10_16.csv</td><td>114470</td><td>1747917064000</td></tr><tr><td>dbfs:/FileStore/tables/retail-data/by-day/2011_10_17.csv</td><td>2011_10_17.csv</td><td>261910</td><td>1747917065000</td></tr><tr><td>dbfs:/FileStore/tables/retail-data/by-day/2011_10_18.csv</td><td>2011_10_18.csv</td><td>257244</td><td>1747917065000</td></tr><tr><td>dbfs:/FileStore/tables/retail-data/by-day/2011_10_19.csv</td><td>2011_10_19.csv</td><td>206689</td><td>1747917066000</td></tr><tr><td>dbfs:/FileStore/tables/retail-data/by-day/2011_10_20.csv</td><td>2011_10_20.csv</td><td>212077</td><td>1747917066000</td></tr><tr><td>dbfs:/FileStore/tables/retail-data/by-day/2011_10_21.csv</td><td>2011_10_21.csv</td><td>127547</td><td>1747917067000</td></tr><tr><td>dbfs:/FileStore/tables/retail-data/by-day/2011_10_23.csv</td><td>2011_10_23.csv</td><td>158316</td><td>1747917067000</td></tr><tr><td>dbfs:/FileStore/tables/retail-data/by-day/2011_10_24.csv</td><td>2011_10_24.csv</td><td>263839</td><td>1747917068000</td></tr><tr><td>dbfs:/FileStore/tables/retail-data/by-day/2011_10_25.csv</td><td>2011_10_25.csv</td><td>223947</td><td>1747917069000</td></tr><tr><td>dbfs:/FileStore/tables/retail-data/by-day/2011_10_26.csv</td><td>2011_10_26.csv</td><td>174790</td><td>1747917069000</td></tr><tr><td>dbfs:/FileStore/tables/retail-data/by-day/2011_10_27.csv</td><td>2011_10_27.csv</td><td>228883</td><td>1747917070000</td></tr><tr><td>dbfs:/FileStore/tables/retail-data/by-day/2011_10_28.csv</td><td>2011_10_28.csv</td><td>146761</td><td>1747917070000</td></tr><tr><td>dbfs:/FileStore/tables/retail-data/by-day/2011_10_30.csv</td><td>2011_10_30.csv</td><td>264885</td><td>1747917071000</td></tr><tr><td>dbfs:/FileStore/tables/retail-data/by-day/2011_10_31.csv</td><td>2011_10_31.csv</td><td>298653</td><td>1747917071000</td></tr><tr><td>dbfs:/FileStore/tables/retail-data/by-day/2011_11_01.csv</td><td>2011_11_01.csv</td><td>161872</td><td>1747917071000</td></tr><tr><td>dbfs:/FileStore/tables/retail-data/by-day/2011_11_02.csv</td><td>2011_11_02.csv</td><td>233949</td><td>1747917039000</td></tr><tr><td>dbfs:/FileStore/tables/retail-data/by-day/2011_11_03.csv</td><td>2011_11_03.csv</td><td>216844</td><td>1747917040000</td></tr><tr><td>dbfs:/FileStore/tables/retail-data/by-day/2011_11_04.csv</td><td>2011_11_04.csv</td><td>270087</td><td>1747917042000</td></tr><tr><td>dbfs:/FileStore/tables/retail-data/by-day/2011_11_06.csv</td><td>2011_11_06.csv</td><td>313153</td><td>1747917044000</td></tr><tr><td>dbfs:/FileStore/tables/retail-data/by-day/2011_11_07.csv</td><td>2011_11_07.csv</td><td>188148</td><td>1747917045000</td></tr><tr><td>dbfs:/FileStore/tables/retail-data/by-day/2011_11_08.csv</td><td>2011_11_08.csv</td><td>359329</td><td>1747917048000</td></tr><tr><td>dbfs:/FileStore/tables/retail-data/by-day/2011_11_09.csv</td><td>2011_11_09.csv</td><td>244073</td><td>1747917049000</td></tr><tr><td>dbfs:/FileStore/tables/retail-data/by-day/2011_11_10.csv</td><td>2011_11_10.csv</td><td>295607</td><td>1747917050000</td></tr><tr><td>dbfs:/FileStore/tables/retail-data/by-day/2011_11_11.csv</td><td>2011_11_11.csv</td><td>359019</td><td>1747917052000</td></tr><tr><td>dbfs:/FileStore/tables/retail-data/by-day/2011_11_13.csv</td><td>2011_11_13.csv</td><td>272682</td><td>1747917054000</td></tr><tr><td>dbfs:/FileStore/tables/retail-data/by-day/2011_11_14.csv</td><td>2011_11_14.csv</td><td>322946</td><td>1747917056000</td></tr><tr><td>dbfs:/FileStore/tables/retail-data/by-day/2011_11_15.csv</td><td>2011_11_15.csv</td><td>304442</td><td>1747917057000</td></tr><tr><td>dbfs:/FileStore/tables/retail-data/by-day/2011_11_16.csv</td><td>2011_11_16.csv</td><td>371320</td><td>1747917059000</td></tr><tr><td>dbfs:/FileStore/tables/retail-data/by-day/2011_11_17.csv</td><td>2011_11_17.csv</td><td>321770</td><td>1747917060000</td></tr><tr><td>dbfs:/FileStore/tables/retail-data/by-day/2011_11_18.csv</td><td>2011_11_18.csv</td><td>258456</td><td>1747917061000</td></tr><tr><td>dbfs:/FileStore/tables/retail-data/by-day/2011_11_20.csv</td><td>2011_11_20.csv</td><td>302441</td><td>1747917062000</td></tr><tr><td>dbfs:/FileStore/tables/retail-data/by-day/2011_11_21.csv</td><td>2011_11_21.csv</td><td>262095</td><td>1747917062000</td></tr><tr><td>dbfs:/FileStore/tables/retail-data/by-day/2011_11_22.csv</td><td>2011_11_22.csv</td><td>351999</td><td>1747917020000</td></tr><tr><td>dbfs:/FileStore/tables/retail-data/by-day/2011_11_23.csv</td><td>2011_11_23.csv</td><td>327359</td><td>1747917021000</td></tr><tr><td>dbfs:/FileStore/tables/retail-data/by-day/2011_11_24.csv</td><td>2011_11_24.csv</td><td>331824</td><td>1747917021000</td></tr><tr><td>dbfs:/FileStore/tables/retail-data/by-day/2011_11_25.csv</td><td>2011_11_25.csv</td><td>273837</td><td>1747917022000</td></tr><tr><td>dbfs:/FileStore/tables/retail-data/by-day/2011_11_27.csv</td><td>2011_11_27.csv</td><td>230974</td><td>1747917023000</td></tr><tr><td>dbfs:/FileStore/tables/retail-data/by-day/2011_11_28.csv</td><td>2011_11_28.csv</td><td>297785</td><td>1747917024000</td></tr><tr><td>dbfs:/FileStore/tables/retail-data/by-day/2011_11_29.csv</td><td>2011_11_29.csv</td><td>381332</td><td>1747917026000</td></tr><tr><td>dbfs:/FileStore/tables/retail-data/by-day/2011_11_30.csv</td><td>2011_11_30.csv</td><td>303485</td><td>1747917027000</td></tr><tr><td>dbfs:/FileStore/tables/retail-data/by-day/2011_12_01.csv</td><td>2011_12_01.csv</td><td>259173</td><td>1747917028000</td></tr><tr><td>dbfs:/FileStore/tables/retail-data/by-day/2011_12_02.csv</td><td>2011_12_02.csv</td><td>254858</td><td>1747917029000</td></tr><tr><td>dbfs:/FileStore/tables/retail-data/by-day/2011_12_04.csv</td><td>2011_12_04.csv</td><td>184959</td><td>1747917030000</td></tr><tr><td>dbfs:/FileStore/tables/retail-data/by-day/2011_12_05.csv</td><td>2011_12_05.csv</td><td>472154</td><td>1747917032000</td></tr><tr><td>dbfs:/FileStore/tables/retail-data/by-day/2011_12_06.csv</td><td>2011_12_06.csv</td><td>300750</td><td>1747917034000</td></tr><tr><td>dbfs:/FileStore/tables/retail-data/by-day/2011_12_07.csv</td><td>2011_12_07.csv</td><td>217714</td><td>1747917035000</td></tr><tr><td>dbfs:/FileStore/tables/retail-data/by-day/2011_12_08.csv</td><td>2011_12_08.csv</td><td>432962</td><td>1747917037000</td></tr><tr><td>dbfs:/FileStore/tables/retail-data/by-day/2011_12_09.csv</td><td>2011_12_09.csv</td><td>140637</td><td>1747917037000</td></tr></tbody></table></div>"
      ]
     },
     "metadata": {
      "application/vnd.databricks.v1+output": {
       "addedWidgets": {},
       "aggData": [],
       "aggError": "",
       "aggOverflow": false,
       "aggSchema": [],
       "aggSeriesLimitReached": false,
       "aggType": "",
       "arguments": {},
       "columnCustomDisplayInfos": {},
       "data": [
        [
         "dbfs:/FileStore/tables/retail-data/by-day/2010_12_01.csv",
         "2010_12_01.csv",
         275001,
         1747917158000
        ],
        [
         "dbfs:/FileStore/tables/retail-data/by-day/2010_12_02.csv",
         "2010_12_02.csv",
         191826,
         1747917158000
        ],
        [
         "dbfs:/FileStore/tables/retail-data/by-day/2010_12_03.csv",
         "2010_12_03.csv",
         190700,
         1747917012000
        ],
        [
         "dbfs:/FileStore/tables/retail-data/by-day/2010_12_05.csv",
         "2010_12_05.csv",
         246056,
         1747917012000
        ],
        [
         "dbfs:/FileStore/tables/retail-data/by-day/2010_12_06.csv",
         "2010_12_06.csv",
         339039,
         1747917013000
        ],
        [
         "dbfs:/FileStore/tables/retail-data/by-day/2010_12_07.csv",
         "2010_12_07.csv",
         255832,
         1747917014000
        ],
        [
         "dbfs:/FileStore/tables/retail-data/by-day/2010_12_08.csv",
         "2010_12_08.csv",
         235974,
         1747917014000
        ],
        [
         "dbfs:/FileStore/tables/retail-data/by-day/2010_12_09.csv",
         "2010_12_09.csv",
         252904,
         1747917014000
        ],
        [
         "dbfs:/FileStore/tables/retail-data/by-day/2010_12_10.csv",
         "2010_12_10.csv",
         241468,
         1747917015000
        ],
        [
         "dbfs:/FileStore/tables/retail-data/by-day/2010_12_12.csv",
         "2010_12_12.csv",
         132120,
         1747917015000
        ],
        [
         "dbfs:/FileStore/tables/retail-data/by-day/2010_12_13.csv",
         "2010_12_13.csv",
         202021,
         1747917016000
        ],
        [
         "dbfs:/FileStore/tables/retail-data/by-day/2010_12_14.csv",
         "2010_12_14.csv",
         186685,
         1747917016000
        ],
        [
         "dbfs:/FileStore/tables/retail-data/by-day/2010_12_15.csv",
         "2010_12_15.csv",
         122496,
         1747917017000
        ],
        [
         "dbfs:/FileStore/tables/retail-data/by-day/2010_12_16.csv",
         "2010_12_16.csv",
         163452,
         1747917017000
        ],
        [
         "dbfs:/FileStore/tables/retail-data/by-day/2010_12_17.csv",
         "2010_12_17.csv",
         264944,
         1747917018000
        ],
        [
         "dbfs:/FileStore/tables/retail-data/by-day/2010_12_19.csv",
         "2010_12_19.csv",
         47264,
         1747917018000
        ],
        [
         "dbfs:/FileStore/tables/retail-data/by-day/2010_12_20.csv",
         "2010_12_20.csv",
         153561,
         1747917019000
        ],
        [
         "dbfs:/FileStore/tables/retail-data/by-day/2010_12_21.csv",
         "2010_12_21.csv",
         134904,
         1747917152000
        ],
        [
         "dbfs:/FileStore/tables/retail-data/by-day/2010_12_22.csv",
         "2010_12_22.csv",
         25836,
         1747917152000
        ],
        [
         "dbfs:/FileStore/tables/retail-data/by-day/2010_12_23.csv",
         "2010_12_23.csv",
         83192,
         1747917153000
        ],
        [
         "dbfs:/FileStore/tables/retail-data/by-day/2011_01_04.csv",
         "2011_01_04.csv",
         104656,
         1747917153000
        ],
        [
         "dbfs:/FileStore/tables/retail-data/by-day/2011_01_05.csv",
         "2011_01_05.csv",
         153733,
         1747917153000
        ],
        [
         "dbfs:/FileStore/tables/retail-data/by-day/2011_01_06.csv",
         "2011_01_06.csv",
         162100,
         1747917154000
        ],
        [
         "dbfs:/FileStore/tables/retail-data/by-day/2011_01_07.csv",
         "2011_01_07.csv",
         155938,
         1747917154000
        ],
        [
         "dbfs:/FileStore/tables/retail-data/by-day/2011_01_09.csv",
         "2011_01_09.csv",
         101317,
         1747917154000
        ],
        [
         "dbfs:/FileStore/tables/retail-data/by-day/2011_01_10.csv",
         "2011_01_10.csv",
         170418,
         1747917155000
        ],
        [
         "dbfs:/FileStore/tables/retail-data/by-day/2011_01_11.csv",
         "2011_01_11.csv",
         127847,
         1747917155000
        ],
        [
         "dbfs:/FileStore/tables/retail-data/by-day/2011_01_12.csv",
         "2011_01_12.csv",
         158187,
         1747917155000
        ],
        [
         "dbfs:/FileStore/tables/retail-data/by-day/2011_01_13.csv",
         "2011_01_13.csv",
         126109,
         1747917156000
        ],
        [
         "dbfs:/FileStore/tables/retail-data/by-day/2011_01_14.csv",
         "2011_01_14.csv",
         131086,
         1747917156000
        ],
        [
         "dbfs:/FileStore/tables/retail-data/by-day/2011_01_16.csv",
         "2011_01_16.csv",
         58906,
         1747917156000
        ],
        [
         "dbfs:/FileStore/tables/retail-data/by-day/2011_01_17.csv",
         "2011_01_17.csv",
         221821,
         1747917157000
        ],
        [
         "dbfs:/FileStore/tables/retail-data/by-day/2011_01_18.csv",
         "2011_01_18.csv",
         124711,
         1747917157000
        ],
        [
         "dbfs:/FileStore/tables/retail-data/by-day/2011_01_19.csv",
         "2011_01_19.csv",
         124865,
         1747917158000
        ],
        [
         "dbfs:/FileStore/tables/retail-data/by-day/2011_01_20.csv",
         "2011_01_20.csv",
         130157,
         1747917158000
        ],
        [
         "dbfs:/FileStore/tables/retail-data/by-day/2011_01_21.csv",
         "2011_01_21.csv",
         139157,
         1747917146000
        ],
        [
         "dbfs:/FileStore/tables/retail-data/by-day/2011_01_23.csv",
         "2011_01_23.csv",
         80012,
         1747917147000
        ],
        [
         "dbfs:/FileStore/tables/retail-data/by-day/2011_01_24.csv",
         "2011_01_24.csv",
         128813,
         1747917147000
        ],
        [
         "dbfs:/FileStore/tables/retail-data/by-day/2011_01_25.csv",
         "2011_01_25.csv",
         146739,
         1747917148000
        ],
        [
         "dbfs:/FileStore/tables/retail-data/by-day/2011_01_26.csv",
         "2011_01_26.csv",
         113985,
         1747917148000
        ],
        [
         "dbfs:/FileStore/tables/retail-data/by-day/2011_01_27.csv",
         "2011_01_27.csv",
         140033,
         1747917148000
        ],
        [
         "dbfs:/FileStore/tables/retail-data/by-day/2011_01_28.csv",
         "2011_01_28.csv",
         87450,
         1747917148000
        ],
        [
         "dbfs:/FileStore/tables/retail-data/by-day/2011_01_30.csv",
         "2011_01_30.csv",
         66171,
         1747917149000
        ],
        [
         "dbfs:/FileStore/tables/retail-data/by-day/2011_01_31.csv",
         "2011_01_31.csv",
         132774,
         1747917149000
        ],
        [
         "dbfs:/FileStore/tables/retail-data/by-day/2011_02_01.csv",
         "2011_02_01.csv",
         139954,
         1747917149000
        ],
        [
         "dbfs:/FileStore/tables/retail-data/by-day/2011_02_02.csv",
         "2011_02_02.csv",
         124794,
         1747917149000
        ],
        [
         "dbfs:/FileStore/tables/retail-data/by-day/2011_02_03.csv",
         "2011_02_03.csv",
         87779,
         1747917150000
        ],
        [
         "dbfs:/FileStore/tables/retail-data/by-day/2011_02_04.csv",
         "2011_02_04.csv",
         107014,
         1747917150000
        ],
        [
         "dbfs:/FileStore/tables/retail-data/by-day/2011_02_06.csv",
         "2011_02_06.csv",
         25516,
         1747917151000
        ],
        [
         "dbfs:/FileStore/tables/retail-data/by-day/2011_02_07.csv",
         "2011_02_07.csv",
         111980,
         1747917151000
        ],
        [
         "dbfs:/FileStore/tables/retail-data/by-day/2011_02_08.csv",
         "2011_02_08.csv",
         107136,
         1747917151000
        ],
        [
         "dbfs:/FileStore/tables/retail-data/by-day/2011_02_09.csv",
         "2011_02_09.csv",
         75999,
         1747917151000
        ],
        [
         "dbfs:/FileStore/tables/retail-data/by-day/2011_02_10.csv",
         "2011_02_10.csv",
         70942,
         1747917152000
        ],
        [
         "dbfs:/FileStore/tables/retail-data/by-day/2011_02_11.csv",
         "2011_02_11.csv",
         83807,
         1747917140000
        ],
        [
         "dbfs:/FileStore/tables/retail-data/by-day/2011_02_13.csv",
         "2011_02_13.csv",
         57098,
         1747917141000
        ],
        [
         "dbfs:/FileStore/tables/retail-data/by-day/2011_02_14.csv",
         "2011_02_14.csv",
         97341,
         1747917141000
        ],
        [
         "dbfs:/FileStore/tables/retail-data/by-day/2011_02_15.csv",
         "2011_02_15.csv",
         117745,
         1747917141000
        ],
        [
         "dbfs:/FileStore/tables/retail-data/by-day/2011_02_16.csv",
         "2011_02_16.csv",
         106100,
         1747917141000
        ],
        [
         "dbfs:/FileStore/tables/retail-data/by-day/2011_02_17.csv",
         "2011_02_17.csv",
         150882,
         1747917142000
        ],
        [
         "dbfs:/FileStore/tables/retail-data/by-day/2011_02_18.csv",
         "2011_02_18.csv",
         75633,
         1747917142000
        ],
        [
         "dbfs:/FileStore/tables/retail-data/by-day/2011_02_20.csv",
         "2011_02_20.csv",
         78068,
         1747917143000
        ],
        [
         "dbfs:/FileStore/tables/retail-data/by-day/2011_02_21.csv",
         "2011_02_21.csv",
         124088,
         1747917143000
        ],
        [
         "dbfs:/FileStore/tables/retail-data/by-day/2011_02_22.csv",
         "2011_02_22.csv",
         142089,
         1747917143000
        ],
        [
         "dbfs:/FileStore/tables/retail-data/by-day/2011_02_23.csv",
         "2011_02_23.csv",
         138337,
         1747917143000
        ],
        [
         "dbfs:/FileStore/tables/retail-data/by-day/2011_02_24.csv",
         "2011_02_24.csv",
         116769,
         1747917144000
        ],
        [
         "dbfs:/FileStore/tables/retail-data/by-day/2011_02_25.csv",
         "2011_02_25.csv",
         87507,
         1747917144000
        ],
        [
         "dbfs:/FileStore/tables/retail-data/by-day/2011_02_27.csv",
         "2011_02_27.csv",
         74111,
         1747917145000
        ],
        [
         "dbfs:/FileStore/tables/retail-data/by-day/2011_02_28.csv",
         "2011_02_28.csv",
         151947,
         1747917145000
        ],
        [
         "dbfs:/FileStore/tables/retail-data/by-day/2011_03_01.csv",
         "2011_03_01.csv",
         119793,
         1747917146000
        ],
        [
         "dbfs:/FileStore/tables/retail-data/by-day/2011_03_02.csv",
         "2011_03_02.csv",
         85302,
         1747917146000
        ],
        [
         "dbfs:/FileStore/tables/retail-data/by-day/2011_03_03.csv",
         "2011_03_03.csv",
         122010,
         1747917146000
        ],
        [
         "dbfs:/FileStore/tables/retail-data/by-day/2011_03_04.csv",
         "2011_03_04.csv",
         97942,
         1747917135000
        ],
        [
         "dbfs:/FileStore/tables/retail-data/by-day/2011_03_06.csv",
         "2011_03_06.csv",
         76977,
         1747917135000
        ],
        [
         "dbfs:/FileStore/tables/retail-data/by-day/2011_03_07.csv",
         "2011_03_07.csv",
         172784,
         1747917135000
        ],
        [
         "dbfs:/FileStore/tables/retail-data/by-day/2011_03_08.csv",
         "2011_03_08.csv",
         141880,
         1747917136000
        ],
        [
         "dbfs:/FileStore/tables/retail-data/by-day/2011_03_09.csv",
         "2011_03_09.csv",
         113715,
         1747917136000
        ],
        [
         "dbfs:/FileStore/tables/retail-data/by-day/2011_03_10.csv",
         "2011_03_10.csv",
         100881,
         1747917136000
        ],
        [
         "dbfs:/FileStore/tables/retail-data/by-day/2011_03_11.csv",
         "2011_03_11.csv",
         84393,
         1747917136000
        ],
        [
         "dbfs:/FileStore/tables/retail-data/by-day/2011_03_13.csv",
         "2011_03_13.csv",
         48917,
         1747917137000
        ],
        [
         "dbfs:/FileStore/tables/retail-data/by-day/2011_03_14.csv",
         "2011_03_14.csv",
         99595,
         1747917137000
        ],
        [
         "dbfs:/FileStore/tables/retail-data/by-day/2011_03_15.csv",
         "2011_03_15.csv",
         112853,
         1747917138000
        ],
        [
         "dbfs:/FileStore/tables/retail-data/by-day/2011_03_16.csv",
         "2011_03_16.csv",
         78923,
         1747917138000
        ],
        [
         "dbfs:/FileStore/tables/retail-data/by-day/2011_03_17.csv",
         "2011_03_17.csv",
         180245,
         1747917138000
        ],
        [
         "dbfs:/FileStore/tables/retail-data/by-day/2011_03_18.csv",
         "2011_03_18.csv",
         122082,
         1747917138000
        ],
        [
         "dbfs:/FileStore/tables/retail-data/by-day/2011_03_20.csv",
         "2011_03_20.csv",
         130096,
         1747917139000
        ],
        [
         "dbfs:/FileStore/tables/retail-data/by-day/2011_03_21.csv",
         "2011_03_21.csv",
         96588,
         1747917139000
        ],
        [
         "dbfs:/FileStore/tables/retail-data/by-day/2011_03_22.csv",
         "2011_03_22.csv",
         206516,
         1747917139000
        ],
        [
         "dbfs:/FileStore/tables/retail-data/by-day/2011_03_23.csv",
         "2011_03_23.csv",
         116861,
         1747917140000
        ],
        [
         "dbfs:/FileStore/tables/retail-data/by-day/2011_03_24.csv",
         "2011_03_24.csv",
         141988,
         1747917140000
        ],
        [
         "dbfs:/FileStore/tables/retail-data/by-day/2011_03_25.csv",
         "2011_03_25.csv",
         122156,
         1747917129000
        ],
        [
         "dbfs:/FileStore/tables/retail-data/by-day/2011_03_27.csv",
         "2011_03_27.csv",
         67786,
         1747917129000
        ],
        [
         "dbfs:/FileStore/tables/retail-data/by-day/2011_03_28.csv",
         "2011_03_28.csv",
         147212,
         1747917129000
        ],
        [
         "dbfs:/FileStore/tables/retail-data/by-day/2011_03_29.csv",
         "2011_03_29.csv",
         173104,
         1747917129000
        ],
        [
         "dbfs:/FileStore/tables/retail-data/by-day/2011_03_30.csv",
         "2011_03_30.csv",
         141435,
         1747917130000
        ],
        [
         "dbfs:/FileStore/tables/retail-data/by-day/2011_03_31.csv",
         "2011_03_31.csv",
         152420,
         1747917130000
        ],
        [
         "dbfs:/FileStore/tables/retail-data/by-day/2011_04_01.csv",
         "2011_04_01.csv",
         112493,
         1747917131000
        ],
        [
         "dbfs:/FileStore/tables/retail-data/by-day/2011_04_03.csv",
         "2011_04_03.csv",
         66518,
         1747917131000
        ],
        [
         "dbfs:/FileStore/tables/retail-data/by-day/2011_04_04.csv",
         "2011_04_04.csv",
         150711,
         1747917131000
        ],
        [
         "dbfs:/FileStore/tables/retail-data/by-day/2011_04_05.csv",
         "2011_04_05.csv",
         107560,
         1747917131000
        ],
        [
         "dbfs:/FileStore/tables/retail-data/by-day/2011_04_06.csv",
         "2011_04_06.csv",
         98068,
         1747917132000
        ],
        [
         "dbfs:/FileStore/tables/retail-data/by-day/2011_04_07.csv",
         "2011_04_07.csv",
         136252,
         1747917132000
        ],
        [
         "dbfs:/FileStore/tables/retail-data/by-day/2011_04_08.csv",
         "2011_04_08.csv",
         125969,
         1747917133000
        ],
        [
         "dbfs:/FileStore/tables/retail-data/by-day/2011_04_10.csv",
         "2011_04_10.csv",
         85637,
         1747917133000
        ],
        [
         "dbfs:/FileStore/tables/retail-data/by-day/2011_04_11.csv",
         "2011_04_11.csv",
         112516,
         1747917133000
        ],
        [
         "dbfs:/FileStore/tables/retail-data/by-day/2011_04_12.csv",
         "2011_04_12.csv",
         104116,
         1747917133000
        ],
        [
         "dbfs:/FileStore/tables/retail-data/by-day/2011_04_13.csv",
         "2011_04_13.csv",
         95007,
         1747917134000
        ],
        [
         "dbfs:/FileStore/tables/retail-data/by-day/2011_04_14.csv",
         "2011_04_14.csv",
         144236,
         1747917134000
        ],
        [
         "dbfs:/FileStore/tables/retail-data/by-day/2011_04_15.csv",
         "2011_04_15.csv",
         128980,
         1747917135000
        ],
        [
         "dbfs:/FileStore/tables/retail-data/by-day/2011_04_17.csv",
         "2011_04_17.csv",
         87658,
         1747917122000
        ],
        [
         "dbfs:/FileStore/tables/retail-data/by-day/2011_04_18.csv",
         "2011_04_18.csv",
         280118,
         1747917122000
        ],
        [
         "dbfs:/FileStore/tables/retail-data/by-day/2011_04_19.csv",
         "2011_04_19.csv",
         165965,
         1747917123000
        ],
        [
         "dbfs:/FileStore/tables/retail-data/by-day/2011_04_20.csv",
         "2011_04_20.csv",
         91865,
         1747917123000
        ],
        [
         "dbfs:/FileStore/tables/retail-data/by-day/2011_04_21.csv",
         "2011_04_21.csv",
         170023,
         1747917123000
        ],
        [
         "dbfs:/FileStore/tables/retail-data/by-day/2011_04_26.csv",
         "2011_04_26.csv",
         167480,
         1747917124000
        ],
        [
         "dbfs:/FileStore/tables/retail-data/by-day/2011_04_27.csv",
         "2011_04_27.csv",
         116613,
         1747917124000
        ],
        [
         "dbfs:/FileStore/tables/retail-data/by-day/2011_04_28.csv",
         "2011_04_28.csv",
         106481,
         1747917125000
        ],
        [
         "dbfs:/FileStore/tables/retail-data/by-day/2011_05_01.csv",
         "2011_05_01.csv",
         40884,
         1747917125000
        ],
        [
         "dbfs:/FileStore/tables/retail-data/by-day/2011_05_03.csv",
         "2011_05_03.csv",
         126563,
         1747917125000
        ],
        [
         "dbfs:/FileStore/tables/retail-data/by-day/2011_05_04.csv",
         "2011_05_04.csv",
         105162,
         1747917125000
        ],
        [
         "dbfs:/FileStore/tables/retail-data/by-day/2011_05_05.csv",
         "2011_05_05.csv",
         162318,
         1747917126000
        ],
        [
         "dbfs:/FileStore/tables/retail-data/by-day/2011_05_06.csv",
         "2011_05_06.csv",
         180297,
         1747917127000
        ],
        [
         "dbfs:/FileStore/tables/retail-data/by-day/2011_05_08.csv",
         "2011_05_08.csv",
         136006,
         1747917127000
        ],
        [
         "dbfs:/FileStore/tables/retail-data/by-day/2011_05_09.csv",
         "2011_05_09.csv",
         154043,
         1747917127000
        ],
        [
         "dbfs:/FileStore/tables/retail-data/by-day/2011_05_10.csv",
         "2011_05_10.csv",
         224383,
         1747917127000
        ],
        [
         "dbfs:/FileStore/tables/retail-data/by-day/2011_05_11.csv",
         "2011_05_11.csv",
         151121,
         1747917128000
        ],
        [
         "dbfs:/FileStore/tables/retail-data/by-day/2011_05_12.csv",
         "2011_05_12.csv",
         175096,
         1747917128000
        ],
        [
         "dbfs:/FileStore/tables/retail-data/by-day/2011_05_13.csv",
         "2011_05_13.csv",
         125524,
         1747917116000
        ],
        [
         "dbfs:/FileStore/tables/retail-data/by-day/2011_05_15.csv",
         "2011_05_15.csv",
         73038,
         1747917116000
        ],
        [
         "dbfs:/FileStore/tables/retail-data/by-day/2011_05_16.csv",
         "2011_05_16.csv",
         140801,
         1747917117000
        ],
        [
         "dbfs:/FileStore/tables/retail-data/by-day/2011_05_17.csv",
         "2011_05_17.csv",
         168847,
         1747917117000
        ],
        [
         "dbfs:/FileStore/tables/retail-data/by-day/2011_05_18.csv",
         "2011_05_18.csv",
         121774,
         1747917117000
        ],
        [
         "dbfs:/FileStore/tables/retail-data/by-day/2011_05_19.csv",
         "2011_05_19.csv",
         172737,
         1747917118000
        ],
        [
         "dbfs:/FileStore/tables/retail-data/by-day/2011_05_20.csv",
         "2011_05_20.csv",
         100198,
         1747917118000
        ],
        [
         "dbfs:/FileStore/tables/retail-data/by-day/2011_05_22.csv",
         "2011_05_22.csv",
         141114,
         1747917118000
        ],
        [
         "dbfs:/FileStore/tables/retail-data/by-day/2011_05_23.csv",
         "2011_05_23.csv",
         144869,
         1747917119000
        ],
        [
         "dbfs:/FileStore/tables/retail-data/by-day/2011_05_24.csv",
         "2011_05_24.csv",
         153615,
         1747917119000
        ],
        [
         "dbfs:/FileStore/tables/retail-data/by-day/2011_05_25.csv",
         "2011_05_25.csv",
         116151,
         1747917119000
        ],
        [
         "dbfs:/FileStore/tables/retail-data/by-day/2011_05_26.csv",
         "2011_05_26.csv",
         86137,
         1747917120000
        ],
        [
         "dbfs:/FileStore/tables/retail-data/by-day/2011_05_27.csv",
         "2011_05_27.csv",
         103064,
         1747917120000
        ],
        [
         "dbfs:/FileStore/tables/retail-data/by-day/2011_05_29.csv",
         "2011_05_29.csv",
         57243,
         1747917120000
        ],
        [
         "dbfs:/FileStore/tables/retail-data/by-day/2011_05_31.csv",
         "2011_05_31.csv",
         112113,
         1747917120000
        ],
        [
         "dbfs:/FileStore/tables/retail-data/by-day/2011_06_01.csv",
         "2011_06_01.csv",
         126676,
         1747917121000
        ],
        [
         "dbfs:/FileStore/tables/retail-data/by-day/2011_06_02.csv",
         "2011_06_02.csv",
         139233,
         1747917121000
        ],
        [
         "dbfs:/FileStore/tables/retail-data/by-day/2011_06_03.csv",
         "2011_06_03.csv",
         75454,
         1747917121000
        ],
        [
         "dbfs:/FileStore/tables/retail-data/by-day/2011_06_05.csv",
         "2011_06_05.csv",
         140061,
         1747917122000
        ],
        [
         "dbfs:/FileStore/tables/retail-data/by-day/2011_06_06.csv",
         "2011_06_06.csv",
         109829,
         1747917109000
        ],
        [
         "dbfs:/FileStore/tables/retail-data/by-day/2011_06_07.csv",
         "2011_06_07.csv",
         171241,
         1747917109000
        ],
        [
         "dbfs:/FileStore/tables/retail-data/by-day/2011_06_08.csv",
         "2011_06_08.csv",
         203086,
         1747917110000
        ],
        [
         "dbfs:/FileStore/tables/retail-data/by-day/2011_06_09.csv",
         "2011_06_09.csv",
         162227,
         1747917110000
        ],
        [
         "dbfs:/FileStore/tables/retail-data/by-day/2011_06_10.csv",
         "2011_06_10.csv",
         93701,
         1747917111000
        ],
        [
         "dbfs:/FileStore/tables/retail-data/by-day/2011_06_12.csv",
         "2011_06_12.csv",
         97835,
         1747917111000
        ],
        [
         "dbfs:/FileStore/tables/retail-data/by-day/2011_06_13.csv",
         "2011_06_13.csv",
         129767,
         1747917111000
        ],
        [
         "dbfs:/FileStore/tables/retail-data/by-day/2011_06_14.csv",
         "2011_06_14.csv",
         140214,
         1747917111000
        ],
        [
         "dbfs:/FileStore/tables/retail-data/by-day/2011_06_15.csv",
         "2011_06_15.csv",
         151127,
         1747917112000
        ],
        [
         "dbfs:/FileStore/tables/retail-data/by-day/2011_06_16.csv",
         "2011_06_16.csv",
         136339,
         1747917112000
        ],
        [
         "dbfs:/FileStore/tables/retail-data/by-day/2011_06_17.csv",
         "2011_06_17.csv",
         85739,
         1747917112000
        ],
        [
         "dbfs:/FileStore/tables/retail-data/by-day/2011_06_19.csv",
         "2011_06_19.csv",
         105190,
         1747917113000
        ],
        [
         "dbfs:/FileStore/tables/retail-data/by-day/2011_06_20.csv",
         "2011_06_20.csv",
         175539,
         1747917114000
        ],
        [
         "dbfs:/FileStore/tables/retail-data/by-day/2011_06_21.csv",
         "2011_06_21.csv",
         134322,
         1747917114000
        ],
        [
         "dbfs:/FileStore/tables/retail-data/by-day/2011_06_22.csv",
         "2011_06_22.csv",
         91369,
         1747917114000
        ],
        [
         "dbfs:/FileStore/tables/retail-data/by-day/2011_06_23.csv",
         "2011_06_23.csv",
         175463,
         1747917114000
        ],
        [
         "dbfs:/FileStore/tables/retail-data/by-day/2011_06_24.csv",
         "2011_06_24.csv",
         91308,
         1747917115000
        ],
        [
         "dbfs:/FileStore/tables/retail-data/by-day/2011_06_26.csv",
         "2011_06_26.csv",
         64579,
         1747917115000
        ],
        [
         "dbfs:/FileStore/tables/retail-data/by-day/2011_06_27.csv",
         "2011_06_27.csv",
         104370,
         1747917103000
        ],
        [
         "dbfs:/FileStore/tables/retail-data/by-day/2011_06_28.csv",
         "2011_06_28.csv",
         92153,
         1747917103000
        ],
        [
         "dbfs:/FileStore/tables/retail-data/by-day/2011_06_29.csv",
         "2011_06_29.csv",
         117488,
         1747917104000
        ],
        [
         "dbfs:/FileStore/tables/retail-data/by-day/2011_06_30.csv",
         "2011_06_30.csv",
         143253,
         1747917104000
        ],
        [
         "dbfs:/FileStore/tables/retail-data/by-day/2011_07_01.csv",
         "2011_07_01.csv",
         90752,
         1747917104000
        ],
        [
         "dbfs:/FileStore/tables/retail-data/by-day/2011_07_03.csv",
         "2011_07_03.csv",
         54798,
         1747917105000
        ],
        [
         "dbfs:/FileStore/tables/retail-data/by-day/2011_07_04.csv",
         "2011_07_04.csv",
         189204,
         1747917105000
        ],
        [
         "dbfs:/FileStore/tables/retail-data/by-day/2011_07_05.csv",
         "2011_07_05.csv",
         189831,
         1747917105000
        ],
        [
         "dbfs:/FileStore/tables/retail-data/by-day/2011_07_06.csv",
         "2011_07_06.csv",
         159436,
         1747917106000
        ],
        [
         "dbfs:/FileStore/tables/retail-data/by-day/2011_07_07.csv",
         "2011_07_07.csv",
         171634,
         1747917106000
        ],
        [
         "dbfs:/FileStore/tables/retail-data/by-day/2011_07_08.csv",
         "2011_07_08.csv",
         140138,
         1747917106000
        ],
        [
         "dbfs:/FileStore/tables/retail-data/by-day/2011_07_10.csv",
         "2011_07_10.csv",
         74191,
         1747917107000
        ],
        [
         "dbfs:/FileStore/tables/retail-data/by-day/2011_07_11.csv",
         "2011_07_11.csv",
         133475,
         1747917107000
        ],
        [
         "dbfs:/FileStore/tables/retail-data/by-day/2011_07_12.csv",
         "2011_07_12.csv",
         144196,
         1747917107000
        ],
        [
         "dbfs:/FileStore/tables/retail-data/by-day/2011_07_13.csv",
         "2011_07_13.csv",
         144027,
         1747917107000
        ],
        [
         "dbfs:/FileStore/tables/retail-data/by-day/2011_07_14.csv",
         "2011_07_14.csv",
         153670,
         1747917108000
        ],
        [
         "dbfs:/FileStore/tables/retail-data/by-day/2011_07_15.csv",
         "2011_07_15.csv",
         99926,
         1747917108000
        ],
        [
         "dbfs:/FileStore/tables/retail-data/by-day/2011_07_17.csv",
         "2011_07_17.csv",
         112983,
         1747917108000
        ],
        [
         "dbfs:/FileStore/tables/retail-data/by-day/2011_07_18.csv",
         "2011_07_18.csv",
         194171,
         1747917109000
        ],
        [
         "dbfs:/FileStore/tables/retail-data/by-day/2011_07_19.csv",
         "2011_07_19.csv",
         147143,
         1747917097000
        ],
        [
         "dbfs:/FileStore/tables/retail-data/by-day/2011_07_20.csv",
         "2011_07_20.csv",
         177416,
         1747917097000
        ],
        [
         "dbfs:/FileStore/tables/retail-data/by-day/2011_07_21.csv",
         "2011_07_21.csv",
         140592,
         1747917097000
        ],
        [
         "dbfs:/FileStore/tables/retail-data/by-day/2011_07_22.csv",
         "2011_07_22.csv",
         113759,
         1747917098000
        ],
        [
         "dbfs:/FileStore/tables/retail-data/by-day/2011_07_24.csv",
         "2011_07_24.csv",
         101031,
         1747917098000
        ],
        [
         "dbfs:/FileStore/tables/retail-data/by-day/2011_07_25.csv",
         "2011_07_25.csv",
         170093,
         1747917098000
        ],
        [
         "dbfs:/FileStore/tables/retail-data/by-day/2011_07_26.csv",
         "2011_07_26.csv",
         112780,
         1747917099000
        ],
        [
         "dbfs:/FileStore/tables/retail-data/by-day/2011_07_27.csv",
         "2011_07_27.csv",
         109514,
         1747917099000
        ],
        [
         "dbfs:/FileStore/tables/retail-data/by-day/2011_07_28.csv",
         "2011_07_28.csv",
         138826,
         1747917099000
        ],
        [
         "dbfs:/FileStore/tables/retail-data/by-day/2011_07_29.csv",
         "2011_07_29.csv",
         101094,
         1747917100000
        ],
        [
         "dbfs:/FileStore/tables/retail-data/by-day/2011_07_31.csv",
         "2011_07_31.csv",
         114650,
         1747917100000
        ],
        [
         "dbfs:/FileStore/tables/retail-data/by-day/2011_08_01.csv",
         "2011_08_01.csv",
         107491,
         1747917100000
        ],
        [
         "dbfs:/FileStore/tables/retail-data/by-day/2011_08_02.csv",
         "2011_08_02.csv",
         120138,
         1747917101000
        ],
        [
         "dbfs:/FileStore/tables/retail-data/by-day/2011_08_03.csv",
         "2011_08_03.csv",
         140576,
         1747917101000
        ],
        [
         "dbfs:/FileStore/tables/retail-data/by-day/2011_08_04.csv",
         "2011_08_04.csv",
         162548,
         1747917102000
        ],
        [
         "dbfs:/FileStore/tables/retail-data/by-day/2011_08_05.csv",
         "2011_08_05.csv",
         127923,
         1747917102000
        ],
        [
         "dbfs:/FileStore/tables/retail-data/by-day/2011_08_07.csv",
         "2011_08_07.csv",
         49245,
         1747917102000
        ],
        [
         "dbfs:/FileStore/tables/retail-data/by-day/2011_08_08.csv",
         "2011_08_08.csv",
         131650,
         1747917102000
        ],
        [
         "dbfs:/FileStore/tables/retail-data/by-day/2011_08_09.csv",
         "2011_08_09.csv",
         100002,
         1747917103000
        ],
        [
         "dbfs:/FileStore/tables/retail-data/by-day/2011_08_10.csv",
         "2011_08_10.csv",
         120046,
         1747917089000
        ],
        [
         "dbfs:/FileStore/tables/retail-data/by-day/2011_08_11.csv",
         "2011_08_11.csv",
         175951,
         1747917090000
        ],
        [
         "dbfs:/FileStore/tables/retail-data/by-day/2011_08_12.csv",
         "2011_08_12.csv",
         97516,
         1747917090000
        ],
        [
         "dbfs:/FileStore/tables/retail-data/by-day/2011_08_14.csv",
         "2011_08_14.csv",
         50684,
         1747917091000
        ],
        [
         "dbfs:/FileStore/tables/retail-data/by-day/2011_08_15.csv",
         "2011_08_15.csv",
         82959,
         1747917091000
        ],
        [
         "dbfs:/FileStore/tables/retail-data/by-day/2011_08_16.csv",
         "2011_08_16.csv",
         92486,
         1747917091000
        ],
        [
         "dbfs:/FileStore/tables/retail-data/by-day/2011_08_17.csv",
         "2011_08_17.csv",
         148605,
         1747917092000
        ],
        [
         "dbfs:/FileStore/tables/retail-data/by-day/2011_08_18.csv",
         "2011_08_18.csv",
         137689,
         1747917092000
        ],
        [
         "dbfs:/FileStore/tables/retail-data/by-day/2011_08_19.csv",
         "2011_08_19.csv",
         72940,
         1747917093000
        ],
        [
         "dbfs:/FileStore/tables/retail-data/by-day/2011_08_21.csv",
         "2011_08_21.csv",
         97031,
         1747917093000
        ],
        [
         "dbfs:/FileStore/tables/retail-data/by-day/2011_08_22.csv",
         "2011_08_22.csv",
         114812,
         1747917094000
        ],
        [
         "dbfs:/FileStore/tables/retail-data/by-day/2011_08_23.csv",
         "2011_08_23.csv",
         130326,
         1747917094000
        ],
        [
         "dbfs:/FileStore/tables/retail-data/by-day/2011_08_24.csv",
         "2011_08_24.csv",
         167436,
         1747917095000
        ],
        [
         "dbfs:/FileStore/tables/retail-data/by-day/2011_08_25.csv",
         "2011_08_25.csv",
         118982,
         1747917095000
        ],
        [
         "dbfs:/FileStore/tables/retail-data/by-day/2011_08_26.csv",
         "2011_08_26.csv",
         82531,
         1747917095000
        ],
        [
         "dbfs:/FileStore/tables/retail-data/by-day/2011_08_28.csv",
         "2011_08_28.csv",
         107760,
         1747917095000
        ],
        [
         "dbfs:/FileStore/tables/retail-data/by-day/2011_08_30.csv",
         "2011_08_30.csv",
         274692,
         1747917096000
        ],
        [
         "dbfs:/FileStore/tables/retail-data/by-day/2011_08_31.csv",
         "2011_08_31.csv",
         113373,
         1747917096000
        ],
        [
         "dbfs:/FileStore/tables/retail-data/by-day/2011_09_01.csv",
         "2011_09_01.csv",
         127664,
         1747917080000
        ],
        [
         "dbfs:/FileStore/tables/retail-data/by-day/2011_09_02.csv",
         "2011_09_02.csv",
         205036,
         1747917081000
        ],
        [
         "dbfs:/FileStore/tables/retail-data/by-day/2011_09_04.csv",
         "2011_09_04.csv",
         120645,
         1747917081000
        ],
        [
         "dbfs:/FileStore/tables/retail-data/by-day/2011_09_05.csv",
         "2011_09_05.csv",
         141625,
         1747917082000
        ],
        [
         "dbfs:/FileStore/tables/retail-data/by-day/2011_09_06.csv",
         "2011_09_06.csv",
         102669,
         1747917082000
        ],
        [
         "dbfs:/FileStore/tables/retail-data/by-day/2011_09_07.csv",
         "2011_09_07.csv",
         181656,
         1747917082000
        ],
        [
         "dbfs:/FileStore/tables/retail-data/by-day/2011_09_08.csv",
         "2011_09_08.csv",
         156826,
         1747917083000
        ],
        [
         "dbfs:/FileStore/tables/retail-data/by-day/2011_09_09.csv",
         "2011_09_09.csv",
         142210,
         1747917083000
        ],
        [
         "dbfs:/FileStore/tables/retail-data/by-day/2011_09_11.csv",
         "2011_09_11.csv",
         185196,
         1747917083000
        ],
        [
         "dbfs:/FileStore/tables/retail-data/by-day/2011_09_12.csv",
         "2011_09_12.csv",
         154124,
         1747917084000
        ],
        [
         "dbfs:/FileStore/tables/retail-data/by-day/2011_09_13.csv",
         "2011_09_13.csv",
         217571,
         1747917085000
        ],
        [
         "dbfs:/FileStore/tables/retail-data/by-day/2011_09_14.csv",
         "2011_09_14.csv",
         123164,
         1747917085000
        ],
        [
         "dbfs:/FileStore/tables/retail-data/by-day/2011_09_15.csv",
         "2011_09_15.csv",
         195419,
         1747917086000
        ],
        [
         "dbfs:/FileStore/tables/retail-data/by-day/2011_09_16.csv",
         "2011_09_16.csv",
         131715,
         1747917086000
        ],
        [
         "dbfs:/FileStore/tables/retail-data/by-day/2011_09_18.csv",
         "2011_09_18.csv",
         116452,
         1747917087000
        ],
        [
         "dbfs:/FileStore/tables/retail-data/by-day/2011_09_19.csv",
         "2011_09_19.csv",
         128010,
         1747917088000
        ],
        [
         "dbfs:/FileStore/tables/retail-data/by-day/2011_09_20.csv",
         "2011_09_20.csv",
         153186,
         1747917088000
        ],
        [
         "dbfs:/FileStore/tables/retail-data/by-day/2011_09_21.csv",
         "2011_09_21.csv",
         272947,
         1747917089000
        ],
        [
         "dbfs:/FileStore/tables/retail-data/by-day/2011_09_22.csv",
         "2011_09_22.csv",
         246699,
         1747917072000
        ],
        [
         "dbfs:/FileStore/tables/retail-data/by-day/2011_09_23.csv",
         "2011_09_23.csv",
         233544,
         1747917072000
        ],
        [
         "dbfs:/FileStore/tables/retail-data/by-day/2011_09_25.csv",
         "2011_09_25.csv",
         182072,
         1747917073000
        ],
        [
         "dbfs:/FileStore/tables/retail-data/by-day/2011_09_26.csv",
         "2011_09_26.csv",
         141083,
         1747917073000
        ],
        [
         "dbfs:/FileStore/tables/retail-data/by-day/2011_09_27.csv",
         "2011_09_27.csv",
         168998,
         1747917073000
        ],
        [
         "dbfs:/FileStore/tables/retail-data/by-day/2011_09_28.csv",
         "2011_09_28.csv",
         255103,
         1747917074000
        ],
        [
         "dbfs:/FileStore/tables/retail-data/by-day/2011_09_29.csv",
         "2011_09_29.csv",
         225953,
         1747917074000
        ],
        [
         "dbfs:/FileStore/tables/retail-data/by-day/2011_09_30.csv",
         "2011_09_30.csv",
         168344,
         1747917075000
        ],
        [
         "dbfs:/FileStore/tables/retail-data/by-day/2011_10_02.csv",
         "2011_10_02.csv",
         130864,
         1747917076000
        ],
        [
         "dbfs:/FileStore/tables/retail-data/by-day/2011_10_03.csv",
         "2011_10_03.csv",
         205031,
         1747917076000
        ],
        [
         "dbfs:/FileStore/tables/retail-data/by-day/2011_10_04.csv",
         "2011_10_04.csv",
         249521,
         1747917077000
        ],
        [
         "dbfs:/FileStore/tables/retail-data/by-day/2011_10_05.csv",
         "2011_10_05.csv",
         219340,
         1747917077000
        ],
        [
         "dbfs:/FileStore/tables/retail-data/by-day/2011_10_06.csv",
         "2011_10_06.csv",
         285739,
         1747917078000
        ],
        [
         "dbfs:/FileStore/tables/retail-data/by-day/2011_10_07.csv",
         "2011_10_07.csv",
         216893,
         1747917078000
        ],
        [
         "dbfs:/FileStore/tables/retail-data/by-day/2011_10_09.csv",
         "2011_10_09.csv",
         118425,
         1747917078000
        ],
        [
         "dbfs:/FileStore/tables/retail-data/by-day/2011_10_10.csv",
         "2011_10_10.csv",
         289700,
         1747917079000
        ],
        [
         "dbfs:/FileStore/tables/retail-data/by-day/2011_10_11.csv",
         "2011_10_11.csv",
         217528,
         1747917080000
        ],
        [
         "dbfs:/FileStore/tables/retail-data/by-day/2011_10_12.csv",
         "2011_10_12.csv",
         192765,
         1747917080000
        ],
        [
         "dbfs:/FileStore/tables/retail-data/by-day/2011_10_13.csv",
         "2011_10_13.csv",
         209708,
         1747917063000
        ],
        [
         "dbfs:/FileStore/tables/retail-data/by-day/2011_10_14.csv",
         "2011_10_14.csv",
         162184,
         1747917064000
        ],
        [
         "dbfs:/FileStore/tables/retail-data/by-day/2011_10_16.csv",
         "2011_10_16.csv",
         114470,
         1747917064000
        ],
        [
         "dbfs:/FileStore/tables/retail-data/by-day/2011_10_17.csv",
         "2011_10_17.csv",
         261910,
         1747917065000
        ],
        [
         "dbfs:/FileStore/tables/retail-data/by-day/2011_10_18.csv",
         "2011_10_18.csv",
         257244,
         1747917065000
        ],
        [
         "dbfs:/FileStore/tables/retail-data/by-day/2011_10_19.csv",
         "2011_10_19.csv",
         206689,
         1747917066000
        ],
        [
         "dbfs:/FileStore/tables/retail-data/by-day/2011_10_20.csv",
         "2011_10_20.csv",
         212077,
         1747917066000
        ],
        [
         "dbfs:/FileStore/tables/retail-data/by-day/2011_10_21.csv",
         "2011_10_21.csv",
         127547,
         1747917067000
        ],
        [
         "dbfs:/FileStore/tables/retail-data/by-day/2011_10_23.csv",
         "2011_10_23.csv",
         158316,
         1747917067000
        ],
        [
         "dbfs:/FileStore/tables/retail-data/by-day/2011_10_24.csv",
         "2011_10_24.csv",
         263839,
         1747917068000
        ],
        [
         "dbfs:/FileStore/tables/retail-data/by-day/2011_10_25.csv",
         "2011_10_25.csv",
         223947,
         1747917069000
        ],
        [
         "dbfs:/FileStore/tables/retail-data/by-day/2011_10_26.csv",
         "2011_10_26.csv",
         174790,
         1747917069000
        ],
        [
         "dbfs:/FileStore/tables/retail-data/by-day/2011_10_27.csv",
         "2011_10_27.csv",
         228883,
         1747917070000
        ],
        [
         "dbfs:/FileStore/tables/retail-data/by-day/2011_10_28.csv",
         "2011_10_28.csv",
         146761,
         1747917070000
        ],
        [
         "dbfs:/FileStore/tables/retail-data/by-day/2011_10_30.csv",
         "2011_10_30.csv",
         264885,
         1747917071000
        ],
        [
         "dbfs:/FileStore/tables/retail-data/by-day/2011_10_31.csv",
         "2011_10_31.csv",
         298653,
         1747917071000
        ],
        [
         "dbfs:/FileStore/tables/retail-data/by-day/2011_11_01.csv",
         "2011_11_01.csv",
         161872,
         1747917071000
        ],
        [
         "dbfs:/FileStore/tables/retail-data/by-day/2011_11_02.csv",
         "2011_11_02.csv",
         233949,
         1747917039000
        ],
        [
         "dbfs:/FileStore/tables/retail-data/by-day/2011_11_03.csv",
         "2011_11_03.csv",
         216844,
         1747917040000
        ],
        [
         "dbfs:/FileStore/tables/retail-data/by-day/2011_11_04.csv",
         "2011_11_04.csv",
         270087,
         1747917042000
        ],
        [
         "dbfs:/FileStore/tables/retail-data/by-day/2011_11_06.csv",
         "2011_11_06.csv",
         313153,
         1747917044000
        ],
        [
         "dbfs:/FileStore/tables/retail-data/by-day/2011_11_07.csv",
         "2011_11_07.csv",
         188148,
         1747917045000
        ],
        [
         "dbfs:/FileStore/tables/retail-data/by-day/2011_11_08.csv",
         "2011_11_08.csv",
         359329,
         1747917048000
        ],
        [
         "dbfs:/FileStore/tables/retail-data/by-day/2011_11_09.csv",
         "2011_11_09.csv",
         244073,
         1747917049000
        ],
        [
         "dbfs:/FileStore/tables/retail-data/by-day/2011_11_10.csv",
         "2011_11_10.csv",
         295607,
         1747917050000
        ],
        [
         "dbfs:/FileStore/tables/retail-data/by-day/2011_11_11.csv",
         "2011_11_11.csv",
         359019,
         1747917052000
        ],
        [
         "dbfs:/FileStore/tables/retail-data/by-day/2011_11_13.csv",
         "2011_11_13.csv",
         272682,
         1747917054000
        ],
        [
         "dbfs:/FileStore/tables/retail-data/by-day/2011_11_14.csv",
         "2011_11_14.csv",
         322946,
         1747917056000
        ],
        [
         "dbfs:/FileStore/tables/retail-data/by-day/2011_11_15.csv",
         "2011_11_15.csv",
         304442,
         1747917057000
        ],
        [
         "dbfs:/FileStore/tables/retail-data/by-day/2011_11_16.csv",
         "2011_11_16.csv",
         371320,
         1747917059000
        ],
        [
         "dbfs:/FileStore/tables/retail-data/by-day/2011_11_17.csv",
         "2011_11_17.csv",
         321770,
         1747917060000
        ],
        [
         "dbfs:/FileStore/tables/retail-data/by-day/2011_11_18.csv",
         "2011_11_18.csv",
         258456,
         1747917061000
        ],
        [
         "dbfs:/FileStore/tables/retail-data/by-day/2011_11_20.csv",
         "2011_11_20.csv",
         302441,
         1747917062000
        ],
        [
         "dbfs:/FileStore/tables/retail-data/by-day/2011_11_21.csv",
         "2011_11_21.csv",
         262095,
         1747917062000
        ],
        [
         "dbfs:/FileStore/tables/retail-data/by-day/2011_11_22.csv",
         "2011_11_22.csv",
         351999,
         1747917020000
        ],
        [
         "dbfs:/FileStore/tables/retail-data/by-day/2011_11_23.csv",
         "2011_11_23.csv",
         327359,
         1747917021000
        ],
        [
         "dbfs:/FileStore/tables/retail-data/by-day/2011_11_24.csv",
         "2011_11_24.csv",
         331824,
         1747917021000
        ],
        [
         "dbfs:/FileStore/tables/retail-data/by-day/2011_11_25.csv",
         "2011_11_25.csv",
         273837,
         1747917022000
        ],
        [
         "dbfs:/FileStore/tables/retail-data/by-day/2011_11_27.csv",
         "2011_11_27.csv",
         230974,
         1747917023000
        ],
        [
         "dbfs:/FileStore/tables/retail-data/by-day/2011_11_28.csv",
         "2011_11_28.csv",
         297785,
         1747917024000
        ],
        [
         "dbfs:/FileStore/tables/retail-data/by-day/2011_11_29.csv",
         "2011_11_29.csv",
         381332,
         1747917026000
        ],
        [
         "dbfs:/FileStore/tables/retail-data/by-day/2011_11_30.csv",
         "2011_11_30.csv",
         303485,
         1747917027000
        ],
        [
         "dbfs:/FileStore/tables/retail-data/by-day/2011_12_01.csv",
         "2011_12_01.csv",
         259173,
         1747917028000
        ],
        [
         "dbfs:/FileStore/tables/retail-data/by-day/2011_12_02.csv",
         "2011_12_02.csv",
         254858,
         1747917029000
        ],
        [
         "dbfs:/FileStore/tables/retail-data/by-day/2011_12_04.csv",
         "2011_12_04.csv",
         184959,
         1747917030000
        ],
        [
         "dbfs:/FileStore/tables/retail-data/by-day/2011_12_05.csv",
         "2011_12_05.csv",
         472154,
         1747917032000
        ],
        [
         "dbfs:/FileStore/tables/retail-data/by-day/2011_12_06.csv",
         "2011_12_06.csv",
         300750,
         1747917034000
        ],
        [
         "dbfs:/FileStore/tables/retail-data/by-day/2011_12_07.csv",
         "2011_12_07.csv",
         217714,
         1747917035000
        ],
        [
         "dbfs:/FileStore/tables/retail-data/by-day/2011_12_08.csv",
         "2011_12_08.csv",
         432962,
         1747917037000
        ],
        [
         "dbfs:/FileStore/tables/retail-data/by-day/2011_12_09.csv",
         "2011_12_09.csv",
         140637,
         1747917037000
        ]
       ],
       "datasetInfos": [],
       "dbfsResultPath": null,
       "isJsonSchema": true,
       "metadata": {},
       "overflow": false,
       "plotOptions": {
        "customPlotOptions": {},
        "displayType": "table",
        "pivotAggregation": null,
        "pivotColumns": null,
        "xColumns": null,
        "yColumns": null
       },
       "removedWidgets": [],
       "schema": [
        {
         "metadata": "{}",
         "name": "path",
         "type": "\"string\""
        },
        {
         "metadata": "{}",
         "name": "name",
         "type": "\"string\""
        },
        {
         "metadata": "{}",
         "name": "size",
         "type": "\"long\""
        },
        {
         "metadata": "{}",
         "name": "modificationTime",
         "type": "\"long\""
        }
       ],
       "type": "table"
      }
     },
     "output_type": "display_data"
    }
   ],
   "source": [
    "#dbutils.fs.mkdirs('/FileStore/tables/retail-data/by-day')\n",
    "display(dbutils.fs.ls(\"/FileStore/tables/retail-data/by-day\"))"
   ]
  },
  {
   "cell_type": "code",
   "execution_count": 0,
   "metadata": {
    "application/vnd.databricks.v1+cell": {
     "cellMetadata": {
      "byteLimit": 2048000,
      "rowLimit": 10000
     },
     "inputWidgets": {},
     "nuid": "3b4c7a1e-2e98-4196-93a8-bcb4986b956a",
     "showTitle": false,
     "tableResultSettingsMap": {},
     "title": ""
    }
   },
   "outputs": [
    {
     "output_type": "stream",
     "name": "stdout",
     "output_type": "stream",
     "text": [
      "<pyspark.sql.session.SparkSession object at 0x7f951e249940>\n"
     ]
    }
   ],
   "source": [
    "# Create my_spark\n",
    "spark = SparkSession.builder.appName(\"my_spark\").getOrCreate()\n",
    "\n",
    "# Print my_spark\n",
    "print(spark)"
   ]
  },
  {
   "cell_type": "code",
   "execution_count": 0,
   "metadata": {
    "application/vnd.databricks.v1+cell": {
     "cellMetadata": {
      "byteLimit": 2048000,
      "rowLimit": 10000
     },
     "inputWidgets": {},
     "nuid": "aec53cf7-9e3e-47ac-b116-a27f2e0bbc81",
     "showTitle": false,
     "tableResultSettingsMap": {},
     "title": ""
    }
   },
   "outputs": [],
   "source": [
    "staticDataFrame = spark.read.format(\"csv\")\\\n",
    "    .option(\"header\", \"true\")\\\n",
    "        .option('inferSchema', 'true')\\\n",
    "            .load('/FileStore/tables/retail-data/by-day/*.csv')\n",
    "\n",
    "staticDataFrame.createOrReplaceTempView('retail_data')\n",
    "staticSchema = staticDataFrame.schema"
   ]
  },
  {
   "cell_type": "code",
   "execution_count": 0,
   "metadata": {
    "application/vnd.databricks.v1+cell": {
     "cellMetadata": {
      "byteLimit": 2048000,
      "rowLimit": 10000
     },
     "inputWidgets": {},
     "nuid": "9274a229-0fc3-4d9d-8a4c-c4287657e732",
     "showTitle": false,
     "tableResultSettingsMap": {},
     "title": ""
    }
   },
   "outputs": [
    {
     "output_type": "stream",
     "name": "stdout",
     "output_type": "stream",
     "text": [
      "+----------+--------------------+-----------------+\n|CustomerId|              window|  sum(total_cost)|\n+----------+--------------------+-----------------+\n|   16057.0|{2011-12-05 00:00...|            -37.6|\n|   14126.0|{2011-11-29 00:00...|643.6300000000001|\n|   13500.0|{2011-11-16 00:00...|497.9700000000001|\n|   17160.0|{2011-11-08 00:00...|516.8499999999999|\n|   15608.0|{2011-11-11 00:00...|            122.4|\n+----------+--------------------+-----------------+\nonly showing top 5 rows\n\n"
     ]
    }
   ],
   "source": [
    "staticDataFrame\\\n",
    "    .selectExpr(\n",
    "        \"CustomerId\",\n",
    "        \"(UnitPrice * Quantity) as total_cost\",\n",
    "        \"InvoiceDate\")\\\n",
    "            .groupby(\n",
    "                col('CustomerId'), window(col(\"InvoiceDate\"), \"1 day\"))\\\n",
    "                    .sum(\"total_cost\")\\\n",
    "                        .show(5)"
   ]
  },
  {
   "cell_type": "code",
   "execution_count": 0,
   "metadata": {
    "application/vnd.databricks.v1+cell": {
     "cellMetadata": {
      "byteLimit": 2048000,
      "rowLimit": 10000
     },
     "inputWidgets": {},
     "nuid": "7bf0f5d2-9666-45eb-87d9-d81b85a66e01",
     "showTitle": false,
     "tableResultSettingsMap": {},
     "title": ""
    }
   },
   "outputs": [],
   "source": [
    "# Streaming code\n",
    "streamingDataFrame = spark.readStream\\\n",
    "    .schema(staticSchema)\\\n",
    "        .option('maxFilesPerTrigger', 1)\\\n",
    "            .format('csv')\\\n",
    "                .option('header', 'true')\\\n",
    "                    .load('/FileStore/tables/retail-data/by-day/*.csv')"
   ]
  },
  {
   "cell_type": "code",
   "execution_count": 0,
   "metadata": {
    "application/vnd.databricks.v1+cell": {
     "cellMetadata": {
      "byteLimit": 2048000,
      "rowLimit": 10000
     },
     "inputWidgets": {},
     "nuid": "bdcbb344-2fab-4da9-9ba1-1d03181588be",
     "showTitle": false,
     "tableResultSettingsMap": {},
     "title": ""
    }
   },
   "outputs": [
    {
     "output_type": "stream",
     "name": "stdout",
     "output_type": "stream",
     "text": [
      "Out[7]: True"
     ]
    }
   ],
   "source": [
    "streamingDataFrame.isStreaming"
   ]
  },
  {
   "cell_type": "code",
   "execution_count": 0,
   "metadata": {
    "application/vnd.databricks.v1+cell": {
     "cellMetadata": {
      "byteLimit": 2048000,
      "rowLimit": 10000
     },
     "inputWidgets": {},
     "nuid": "a29563c6-b2f9-4ae7-b2ee-d92c16904e80",
     "showTitle": false,
     "tableResultSettingsMap": {},
     "title": ""
    }
   },
   "outputs": [],
   "source": [
    "purchaseByCustomerPerHour = streamingDataFrame\\\n",
    "    .selectExpr(\n",
    "        'CustomerId',\n",
    "        '(UnitPrice * Quantity) as total_cost',\n",
    "        'InvoiceDate')\\\n",
    "            .groupby(\n",
    "                col('CustomerId'), window(col('InvoiceDate'), '1 day'))\\\n",
    "                    .sum('total_cost')"
   ]
  },
  {
   "cell_type": "code",
   "execution_count": 0,
   "metadata": {
    "application/vnd.databricks.v1+cell": {
     "cellMetadata": {
      "byteLimit": 2048000,
      "rowLimit": 10000
     },
     "inputWidgets": {},
     "nuid": "fe3694b7-0448-4315-b795-0661ef9a3808",
     "showTitle": false,
     "tableResultSettingsMap": {},
     "title": ""
    }
   },
   "outputs": [
    {
     "output_type": "display_data",
     "data": {
      "text/html": [
       "<style scoped>\n",
       "  .ansiout {\n",
       "    display: block;\n",
       "    unicode-bidi: embed;\n",
       "    white-space: pre-wrap;\n",
       "    word-wrap: break-word;\n",
       "    word-break: break-all;\n",
       "    font-family: \"Menlo\", \"Monaco\", \"Consolas\", \"Ubuntu Mono\", \"Source Code Pro\", monospace;\n",
       "    font-size: 13px;\n",
       "    color: #555;\n",
       "    margin-left: 4px;\n",
       "    line-height: 19px;\n",
       "  }\n",
       "</style>"
      ]
     },
     "metadata": {
      "application/vnd.databricks.v1+output": {
       "arguments": {},
       "data": "",
       "errorSummary": "Command skipped",
       "errorTraceType": "html",
       "metadata": {},
       "type": "ipynbError"
      }
     },
     "output_type": "display_data"
    }
   ],
   "source": [
    "# memory = store in-memory table\n",
    "# customer_purchases = name of the in-memory table\n",
    "# complete = all the counts should be in the table\n",
    "purchaseByCustomerPerHour.writeStream\\\n",
    "    .format('memory')\\\n",
    "        .queryName('customer_purchases')\\\n",
    "            .outputMode('complete')\\\n",
    "                .start()"
   ]
  },
  {
   "cell_type": "code",
   "execution_count": 0,
   "metadata": {
    "application/vnd.databricks.v1+cell": {
     "cellMetadata": {
      "byteLimit": 2048000,
      "rowLimit": 10000
     },
     "inputWidgets": {},
     "nuid": "d4e8d1d1-fb8f-4a8a-b8eb-deaee7dcdd7c",
     "showTitle": false,
     "tableResultSettingsMap": {},
     "title": ""
    }
   },
   "outputs": [
    {
     "output_type": "display_data",
     "data": {
      "text/html": [
       "<style scoped>\n",
       "  .ansiout {\n",
       "    display: block;\n",
       "    unicode-bidi: embed;\n",
       "    white-space: pre-wrap;\n",
       "    word-wrap: break-word;\n",
       "    word-break: break-all;\n",
       "    font-family: \"Menlo\", \"Monaco\", \"Consolas\", \"Ubuntu Mono\", \"Source Code Pro\", monospace;\n",
       "    font-size: 13px;\n",
       "    color: #555;\n",
       "    margin-left: 4px;\n",
       "    line-height: 19px;\n",
       "  }\n",
       "</style>"
      ]
     },
     "metadata": {
      "application/vnd.databricks.v1+output": {
       "arguments": {},
       "data": "",
       "errorSummary": "Command skipped",
       "errorTraceType": "html",
       "metadata": {},
       "type": "ipynbError"
      }
     },
     "output_type": "display_data"
    }
   ],
   "source": [
    "spark.sql(\"\"\"SELECT * FROM CUSTOMER_PURCHASES\n",
    "          ORDER BY  `SUM(TOTAL_COST)` DESC\"\"\")\\\n",
    "              .show(5)"
   ]
  },
  {
   "cell_type": "code",
   "execution_count": 0,
   "metadata": {
    "application/vnd.databricks.v1+cell": {
     "cellMetadata": {
      "byteLimit": 2048000,
      "rowLimit": 10000
     },
     "inputWidgets": {},
     "nuid": "da69dcdc-1dad-4c03-b52b-61d228623b38",
     "showTitle": false,
     "tableResultSettingsMap": {},
     "title": ""
    }
   },
   "outputs": [
    {
     "output_type": "stream",
     "name": "stdout",
     "output_type": "stream",
     "text": [
      "Out[9]: <pyspark.sql.streaming.query.StreamingQuery at 0x7f94e8d93640>"
     ]
    }
   ],
   "source": [
    "# console = printing to console\n",
    "# customer_purchases = name of the in-memory table\n",
    "# complete = all the counts should be in the table\n",
    "purchaseByCustomerPerHour.writeStream\\\n",
    "    .format('console')\\\n",
    "        .queryName('customer_purchases')\\\n",
    "            .outputMode('complete')\\\n",
    "                .start()"
   ]
  },
  {
   "cell_type": "code",
   "execution_count": 0,
   "metadata": {
    "application/vnd.databricks.v1+cell": {
     "cellMetadata": {
      "byteLimit": 2048000,
      "rowLimit": 10000
     },
     "inputWidgets": {},
     "nuid": "3e97b89b-9b03-4113-ad04-0a75c71e4652",
     "showTitle": false,
     "tableResultSettingsMap": {},
     "title": ""
    }
   },
   "outputs": [
    {
     "output_type": "stream",
     "name": "stdout",
     "output_type": "stream",
     "text": [
      "root\n |-- InvoiceNo: string (nullable = true)\n |-- StockCode: string (nullable = true)\n |-- Description: string (nullable = true)\n |-- Quantity: integer (nullable = true)\n |-- InvoiceDate: timestamp (nullable = true)\n |-- UnitPrice: double (nullable = true)\n |-- CustomerID: double (nullable = true)\n |-- Country: string (nullable = true)\n\n"
     ]
    }
   ],
   "source": [
    "staticDataFrame.printSchema()"
   ]
  },
  {
   "cell_type": "markdown",
   "metadata": {
    "application/vnd.databricks.v1+cell": {
     "cellMetadata": {
      "byteLimit": 2048000,
      "rowLimit": 10000
     },
     "inputWidgets": {},
     "nuid": "541062ae-b7e3-469d-8d1d-2e8a34c86863",
     "showTitle": false,
     "tableResultSettingsMap": {},
     "title": ""
    }
   },
   "source": [
    "## Machine Learning and Advanced Analytics\n"
   ]
  },
  {
   "cell_type": "code",
   "execution_count": 0,
   "metadata": {
    "application/vnd.databricks.v1+cell": {
     "cellMetadata": {
      "byteLimit": 2048000,
      "rowLimit": 10000
     },
     "inputWidgets": {},
     "nuid": "9717ddd0-f0bf-48be-999a-2f7fe6db9791",
     "showTitle": false,
     "tableResultSettingsMap": {},
     "title": ""
    }
   },
   "outputs": [],
   "source": [
    "from pyspark.sql.functions import date_format, col\n",
    "from pyspark.ml import Pipeline\n",
    "from pyspark.ml.feature import StringIndexer, OneHotEncoder, VectorAssembler\n",
    "from pyspark.ml.clustering import KMeans\n",
    "from pyspark.ml.evaluation import ClusteringEvaluator"
   ]
  },
  {
   "cell_type": "code",
   "execution_count": 0,
   "metadata": {
    "application/vnd.databricks.v1+cell": {
     "cellMetadata": {
      "byteLimit": 2048000,
      "rowLimit": 10000
     },
     "inputWidgets": {},
     "nuid": "0af01f3a-251c-4da8-bd50-29ff42bb777d",
     "showTitle": false,
     "tableResultSettingsMap": {},
     "title": ""
    }
   },
   "outputs": [],
   "source": [
    "preppedDataFrame = staticDataFrame\\\n",
    "    .na.fill(0)\\\n",
    "        .withColumn('day_of_week', date_format(col('InvoiceDate'), 'EEEE'))\\\n",
    "            .coalesce(5)"
   ]
  },
  {
   "cell_type": "code",
   "execution_count": 0,
   "metadata": {
    "application/vnd.databricks.v1+cell": {
     "cellMetadata": {
      "byteLimit": 2048000,
      "rowLimit": 10000
     },
     "inputWidgets": {},
     "nuid": "a5da563c-c0a4-452d-8c55-a7e1d2b651bc",
     "showTitle": false,
     "tableResultSettingsMap": {},
     "title": ""
    }
   },
   "outputs": [],
   "source": [
    "trainDataFrame = preppedDataFrame\\\n",
    "    .where(\"InvoiceDate < '2011-07-01'\")\n",
    "\n",
    "testDataFrame = preppedDataFrame\\\n",
    "    .where(\"InvoiceDate >= '2011-07-01'\")"
   ]
  },
  {
   "cell_type": "code",
   "execution_count": 0,
   "metadata": {
    "application/vnd.databricks.v1+cell": {
     "cellMetadata": {
      "byteLimit": 2048000,
      "rowLimit": 10000
     },
     "inputWidgets": {},
     "nuid": "4a727787-0a93-46ca-9753-5c87cdd9c2e1",
     "showTitle": false,
     "tableResultSettingsMap": {},
     "title": ""
    }
   },
   "outputs": [],
   "source": [
    "indexer = StringIndexer()\\\n",
    "    .setInputCol('day_of_week')\\\n",
    "        .setOutputCol('day_of_week_index')"
   ]
  },
  {
   "cell_type": "code",
   "execution_count": 0,
   "metadata": {
    "application/vnd.databricks.v1+cell": {
     "cellMetadata": {
      "byteLimit": 2048000,
      "rowLimit": 10000
     },
     "inputWidgets": {},
     "nuid": "43233416-cd37-4d5b-aa35-fd1edb869a64",
     "showTitle": false,
     "tableResultSettingsMap": {},
     "title": ""
    }
   },
   "outputs": [],
   "source": [
    "# one hot encoding of weekdays\n",
    "encoder = OneHotEncoder()\\\n",
    "    .setInputCol('day_of_week_index')\\\n",
    "        .setOutputCol('day_of_week_encoded')"
   ]
  },
  {
   "cell_type": "code",
   "execution_count": 0,
   "metadata": {
    "application/vnd.databricks.v1+cell": {
     "cellMetadata": {
      "byteLimit": 2048000,
      "rowLimit": 10000
     },
     "inputWidgets": {},
     "nuid": "d105f0d3-36eb-4c52-8e02-df42364601bb",
     "showTitle": false,
     "tableResultSettingsMap": {},
     "title": ""
    }
   },
   "outputs": [],
   "source": [
    "# assemble the columns into a vector\n",
    "vectorAssembler = VectorAssembler()\\\n",
    "    .setInputCols(['UnitPrice', 'Quantity', 'day_of_week_encoded'])\\\n",
    "        .setOutputCol('features')"
   ]
  },
  {
   "cell_type": "code",
   "execution_count": 0,
   "metadata": {
    "application/vnd.databricks.v1+cell": {
     "cellMetadata": {
      "byteLimit": 2048000,
      "rowLimit": 10000
     },
     "inputWidgets": {},
     "nuid": "6fa83384-776b-4bef-9528-66a69ccb2b42",
     "showTitle": false,
     "tableResultSettingsMap": {},
     "title": ""
    }
   },
   "outputs": [],
   "source": [
    "# set up a pipeline to process the data\n",
    "transformationPipeline = Pipeline()\\\n",
    "    .setStages([indexer, encoder, vectorAssembler])"
   ]
  },
  {
   "cell_type": "code",
   "execution_count": 0,
   "metadata": {
    "application/vnd.databricks.v1+cell": {
     "cellMetadata": {
      "byteLimit": 2048000,
      "rowLimit": 10000
     },
     "inputWidgets": {},
     "nuid": "1f832bdb-c88a-4926-9f42-b1ee50c01b4b",
     "showTitle": false,
     "tableResultSettingsMap": {},
     "title": ""
    }
   },
   "outputs": [],
   "source": [
    "# Fit transformer to dataset\n",
    "fittedPipeline = transformationPipeline.fit(trainDataFrame)"
   ]
  },
  {
   "cell_type": "code",
   "execution_count": 0,
   "metadata": {
    "application/vnd.databricks.v1+cell": {
     "cellMetadata": {
      "byteLimit": 2048000,
      "rowLimit": 10000
     },
     "inputWidgets": {},
     "nuid": "8124b0d5-fde7-4708-b234-399ae2d1b48c",
     "showTitle": false,
     "tableResultSettingsMap": {},
     "title": ""
    }
   },
   "outputs": [],
   "source": [
    "# Use fitted pipeline to transform all our data\n",
    "transformedTraining = fittedPipeline.transform(trainDataFrame)"
   ]
  },
  {
   "cell_type": "code",
   "execution_count": 0,
   "metadata": {
    "application/vnd.databricks.v1+cell": {
     "cellMetadata": {
      "byteLimit": 2048000,
      "rowLimit": 10000
     },
     "inputWidgets": {},
     "nuid": "521dd3ab-ec31-4c12-9b7a-b58a2c9dac5c",
     "showTitle": false,
     "tableResultSettingsMap": {},
     "title": ""
    }
   },
   "outputs": [
    {
     "output_type": "stream",
     "name": "stdout",
     "output_type": "stream",
     "text": [
      "Out[33]: DataFrame[InvoiceNo: string, StockCode: string, Description: string, Quantity: int, InvoiceDate: timestamp, UnitPrice: double, CustomerID: double, Country: string, day_of_week: string, day_of_week_index: double, day_of_week_encoded: vector, features: vector]"
     ]
    }
   ],
   "source": [
    "transformedTraining.cache()"
   ]
  },
  {
   "cell_type": "code",
   "execution_count": 0,
   "metadata": {
    "application/vnd.databricks.v1+cell": {
     "cellMetadata": {
      "byteLimit": 2048000,
      "rowLimit": 10000
     },
     "inputWidgets": {},
     "nuid": "757632df-1dbd-4238-9dbe-46bdd6f05681",
     "showTitle": false,
     "tableResultSettingsMap": {},
     "title": ""
    }
   },
   "outputs": [],
   "source": [
    "# import and instantiate the relevant model\n",
    "kmeans = KMeans()\\\n",
    "    .setK(20)\\\n",
    "        .setSeed(1)"
   ]
  },
  {
   "cell_type": "code",
   "execution_count": 0,
   "metadata": {
    "application/vnd.databricks.v1+cell": {
     "cellMetadata": {
      "byteLimit": 2048000,
      "rowLimit": 10000
     },
     "inputWidgets": {},
     "nuid": "92400bef-c563-4e96-9fe4-4399a179d855",
     "showTitle": false,
     "tableResultSettingsMap": {},
     "title": ""
    }
   },
   "outputs": [],
   "source": [
    "kmModel = kmeans.fit(transformedTraining)\n"
   ]
  },
  {
   "cell_type": "code",
   "execution_count": 0,
   "metadata": {
    "application/vnd.databricks.v1+cell": {
     "cellMetadata": {
      "byteLimit": 2048000,
      "rowLimit": 10000
     },
     "inputWidgets": {},
     "nuid": "b697f150-cf83-4ddb-8699-a2bdccb960f6",
     "showTitle": false,
     "tableResultSettingsMap": {},
     "title": ""
    }
   },
   "outputs": [],
   "source": [
    "transformedTest = fittedPipeline.transform(testDataFrame)"
   ]
  },
  {
   "cell_type": "code",
   "execution_count": 0,
   "metadata": {
    "application/vnd.databricks.v1+cell": {
     "cellMetadata": {
      "byteLimit": 2048000,
      "rowLimit": 10000
     },
     "inputWidgets": {},
     "nuid": "e0fb2f08-2cd9-4898-8aa1-c9599af85d02",
     "showTitle": false,
     "tableResultSettingsMap": {},
     "title": ""
    }
   },
   "outputs": [],
   "source": [
    "# computeCost() has been removed in newer versions of PySpark (>= 3.0).\n",
    "# computeCost() was deprecated and eventually removed because it was computationally inefficient.\n",
    "# It calculated the sum of squared distances (SSD) from each point to its cluster center — \n",
    "# something you can now compute more explicitly using a transform().\n",
    "\n",
    "# kmModel.computeCost(transformedTest)"
   ]
  },
  {
   "cell_type": "code",
   "execution_count": 0,
   "metadata": {
    "application/vnd.databricks.v1+cell": {
     "cellMetadata": {
      "byteLimit": 2048000,
      "rowLimit": 10000
     },
     "inputWidgets": {},
     "nuid": "3294e158-77e3-47a1-a2fc-db1f9fe74ae7",
     "showTitle": false,
     "tableResultSettingsMap": {},
     "title": ""
    }
   },
   "outputs": [],
   "source": [
    "predictions = kmModel.transform(transformedTest)"
   ]
  },
  {
   "cell_type": "code",
   "execution_count": 0,
   "metadata": {
    "application/vnd.databricks.v1+cell": {
     "cellMetadata": {
      "byteLimit": 2048000,
      "rowLimit": 10000
     },
     "inputWidgets": {},
     "nuid": "3ef5173f-b02e-40b1-ad0a-8dde24bcc5a2",
     "showTitle": false,
     "tableResultSettingsMap": {},
     "title": ""
    }
   },
   "outputs": [
    {
     "output_type": "stream",
     "name": "stdout",
     "output_type": "stream",
     "text": [
      "Silhouette score = 0.5427938390491535\n"
     ]
    }
   ],
   "source": [
    "evaluator = ClusteringEvaluator(metricName = 'silhouette',\n",
    "                                distanceMeasure = 'squaredEuclidean')\n",
    "\n",
    "# Silhouette score (preferred over raw cost)\n",
    "silhouette_score = evaluator.evaluate(predictions)\n",
    "print(f'Silhouette score = {silhouette_score}')"
   ]
  },
  {
   "cell_type": "markdown",
   "metadata": {
    "application/vnd.databricks.v1+cell": {
     "cellMetadata": {},
     "inputWidgets": {},
     "nuid": "47983a10-ee0c-4c57-80d7-e3d6e35424bf",
     "showTitle": false,
     "tableResultSettingsMap": {},
     "title": ""
    }
   },
   "source": [
    "## Lower-Level APIs"
   ]
  },
  {
   "cell_type": "code",
   "execution_count": 0,
   "metadata": {
    "application/vnd.databricks.v1+cell": {
     "cellMetadata": {
      "byteLimit": 2048000,
      "rowLimit": 10000
     },
     "inputWidgets": {},
     "nuid": "98aa450a-4e9b-4874-8f98-8d322042d493",
     "showTitle": false,
     "tableResultSettingsMap": {},
     "title": ""
    }
   },
   "outputs": [],
   "source": [
    "from pyspark.sql import Row"
   ]
  },
  {
   "cell_type": "code",
   "execution_count": 0,
   "metadata": {
    "application/vnd.databricks.v1+cell": {
     "cellMetadata": {
      "byteLimit": 2048000,
      "rowLimit": 10000
     },
     "inputWidgets": {},
     "nuid": "4bd2d15c-b464-4586-b4b5-78bc3984827c",
     "showTitle": false,
     "tableResultSettingsMap": {},
     "title": ""
    }
   },
   "outputs": [
    {
     "output_type": "stream",
     "name": "stdout",
     "output_type": "stream",
     "text": [
      "Out[44]: DataFrame[_1: bigint]"
     ]
    }
   ],
   "source": [
    "spark.sparkContext.parallelize([Row(1), Row(2), Row(3)]).toDF()"
   ]
  }
 ],
 "metadata": {
  "application/vnd.databricks.v1+notebook": {
   "computePreferences": null,
   "dashboards": [],
   "environmentMetadata": {
    "base_environment": "",
    "environment_version": "1"
   },
   "inputWidgetPreferences": null,
   "language": "python",
   "notebookMetadata": {
    "pythonIndentUnit": 4
   },
   "notebookName": "Chapter 3 -A Tour of Sparks's Toolset",
   "widgets": {}
  }
 },
 "nbformat": 4,
 "nbformat_minor": 0
}