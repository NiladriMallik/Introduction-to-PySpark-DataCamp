{
 "cells": [
  {
   "cell_type": "code",
   "execution_count": 0,
   "metadata": {
    "application/vnd.databricks.v1+cell": {
     "cellMetadata": {
      "byteLimit": 2048000,
      "rowLimit": 10000
     },
     "inputWidgets": {},
     "nuid": "5c28c009-cd86-43fb-b7ea-485836b8968f",
     "showTitle": false,
     "tableResultSettingsMap": {},
     "title": ""
    }
   },
   "outputs": [
    {
     "output_type": "stream",
     "name": "stdout",
     "output_type": "stream",
     "text": [
      "<pyspark.sql.session.SparkSession object at 0x7f1157a3d940>\n"
     ]
    }
   ],
   "source": [
    "# Import SparkSession from pyspark.sql\n",
    "from pyspark.sql import SparkSession\n",
    "from pyspark.sql.functions import max, desc\n",
    "\n",
    "# Create my_spark\n",
    "my_spark = SparkSession.builder.appName(\"my_spark\").getOrCreate()\n",
    "\n",
    "# Print my_spark\n",
    "print(my_spark)"
   ]
  },
  {
   "cell_type": "code",
   "execution_count": 0,
   "metadata": {
    "application/vnd.databricks.v1+cell": {
     "cellMetadata": {
      "byteLimit": 2048000,
      "rowLimit": 10000
     },
     "inputWidgets": {},
     "nuid": "eb904948-6623-4976-91af-01691e444f5a",
     "showTitle": false,
     "tableResultSettingsMap": {},
     "title": ""
    }
   },
   "outputs": [
    {
     "output_type": "stream",
     "name": "stdout",
     "output_type": "stream",
     "text": [
      "+------+\n|number|\n+------+\n|     0|\n|     1|\n|     2|\n|     3|\n|     4|\n|     5|\n|     6|\n|     7|\n|     8|\n|     9|\n|    10|\n|    11|\n|    12|\n|    13|\n|    14|\n|    15|\n|    16|\n|    17|\n|    18|\n|    19|\n+------+\nonly showing top 20 rows\n\n"
     ]
    }
   ],
   "source": [
    "myRange = my_spark.range(1000).toDF('number')\n",
    "myRange.show()"
   ]
  },
  {
   "cell_type": "code",
   "execution_count": 0,
   "metadata": {
    "application/vnd.databricks.v1+cell": {
     "cellMetadata": {
      "byteLimit": 2048000,
      "rowLimit": 10000
     },
     "inputWidgets": {},
     "nuid": "148d3af7-20a5-48e2-ad68-10fe343fec52",
     "showTitle": false,
     "tableResultSettingsMap": {},
     "title": ""
    }
   },
   "outputs": [
    {
     "output_type": "stream",
     "name": "stdout",
     "output_type": "stream",
     "text": [
      "+------+\n|number|\n+------+\n|     0|\n|     2|\n|     4|\n|     6|\n|     8|\n+------+\nonly showing top 5 rows\n\n"
     ]
    }
   ],
   "source": [
    "divideBy2 = myRange.where(\"number % 2 = 0\")\n",
    "divideBy2.show(5)"
   ]
  },
  {
   "cell_type": "markdown",
   "metadata": {
    "application/vnd.databricks.v1+cell": {
     "cellMetadata": {
      "byteLimit": 2048000,
      "rowLimit": 10000
     },
     "inputWidgets": {},
     "nuid": "2fc6d9dd-0a2c-435b-bc14-20c1db1a0a35",
     "showTitle": false,
     "tableResultSettingsMap": {},
     "title": ""
    }
   },
   "source": []
  },
  {
   "cell_type": "code",
   "execution_count": 0,
   "metadata": {
    "application/vnd.databricks.v1+cell": {
     "cellMetadata": {
      "byteLimit": 2048000,
      "rowLimit": 10000
     },
     "inputWidgets": {},
     "nuid": "1e1df4d7-adc1-4741-ab85-ed0e74e2292e",
     "showTitle": false,
     "tableResultSettingsMap": {},
     "title": ""
    }
   },
   "outputs": [
    {
     "output_type": "stream",
     "name": "stdout",
     "output_type": "stream",
     "text": [
      "Out[4]: 500"
     ]
    }
   ],
   "source": [
    "divideBy2.count()"
   ]
  },
  {
   "cell_type": "code",
   "execution_count": 0,
   "metadata": {
    "application/vnd.databricks.v1+cell": {
     "cellMetadata": {
      "byteLimit": 2048000,
      "rowLimit": 10000
     },
     "inputWidgets": {},
     "nuid": "62508274-3a71-4270-bbbc-c1335a72de76",
     "showTitle": false,
     "tableResultSettingsMap": {},
     "title": ""
    }
   },
   "outputs": [],
   "source": [
    "flightData2010 = spark\\\n",
    "    .read\\\n",
    "        .option('header', 'true')\\\n",
    "            .option('inferSchema', 'true')\\\n",
    "                .csv(\"/FileStore/tables/2010_summary.csv\")"
   ]
  },
  {
   "cell_type": "code",
   "execution_count": 0,
   "metadata": {
    "application/vnd.databricks.v1+cell": {
     "cellMetadata": {
      "byteLimit": 2048000,
      "rowLimit": 10000
     },
     "inputWidgets": {},
     "nuid": "78d74125-b0af-46e2-849b-6cbc1088aa94",
     "showTitle": false,
     "tableResultSettingsMap": {},
     "title": ""
    }
   },
   "outputs": [
    {
     "output_type": "stream",
     "name": "stdout",
     "output_type": "stream",
     "text": [
      "Out[6]: [Row(DEST_COUNTRY_NAME='United States', ORIGIN_COUNTRY_NAME='Romania', count=1),\n Row(DEST_COUNTRY_NAME='United States', ORIGIN_COUNTRY_NAME='Ireland', count=264),\n Row(DEST_COUNTRY_NAME='United States', ORIGIN_COUNTRY_NAME='India', count=69)]"
     ]
    }
   ],
   "source": [
    "flightData2010.take(3)"
   ]
  },
  {
   "cell_type": "code",
   "execution_count": 0,
   "metadata": {
    "application/vnd.databricks.v1+cell": {
     "cellMetadata": {
      "byteLimit": 2048000,
      "rowLimit": 10000
     },
     "inputWidgets": {},
     "nuid": "843b158f-4088-4c09-8fd4-dd3b7dd642d3",
     "showTitle": false,
     "tableResultSettingsMap": {},
     "title": ""
    }
   },
   "outputs": [
    {
     "output_type": "stream",
     "name": "stdout",
     "output_type": "stream",
     "text": [
      "+--------------------+-------------------+-----+\n|   DEST_COUNTRY_NAME|ORIGIN_COUNTRY_NAME|count|\n+--------------------+-------------------+-----+\n|       United States|            Romania|    1|\n|       United States|            Ireland|  264|\n|       United States|              India|   69|\n|               Egypt|      United States|   24|\n|   Equatorial Guinea|      United States|    1|\n|       United States|          Singapore|   25|\n|       United States|            Grenada|   54|\n|          Costa Rica|      United States|  477|\n|             Senegal|      United States|   29|\n|       United States|   Marshall Islands|   44|\n|              Guyana|      United States|   17|\n|       United States|       Sint Maarten|   53|\n|               Malta|      United States|    1|\n|             Bolivia|      United States|   46|\n|            Anguilla|      United States|   21|\n|Turks and Caicos ...|      United States|  136|\n|       United States|        Afghanistan|    2|\n|Saint Vincent and...|      United States|    1|\n|               Italy|      United States|  390|\n|       United States|             Russia|  156|\n+--------------------+-------------------+-----+\nonly showing top 20 rows\n\n"
     ]
    }
   ],
   "source": [
    "flightData2010.show()"
   ]
  },
  {
   "cell_type": "code",
   "execution_count": 0,
   "metadata": {
    "application/vnd.databricks.v1+cell": {
     "cellMetadata": {
      "byteLimit": 2048000,
      "rowLimit": 10000
     },
     "inputWidgets": {},
     "nuid": "aba4de54-00f4-4d98-a562-a984e77bb000",
     "showTitle": false,
     "tableResultSettingsMap": {},
     "title": ""
    }
   },
   "outputs": [
    {
     "output_type": "stream",
     "name": "stdout",
     "output_type": "stream",
     "text": [
      "== Physical Plan ==\nAdaptiveSparkPlan isFinalPlan=false\n+- Sort [count#651 ASC NULLS FIRST], true, 0\n   +- Exchange rangepartitioning(count#651 ASC NULLS FIRST, 200), ENSURE_REQUIREMENTS, [plan_id=879]\n      +- FileScan csv [DEST_COUNTRY_NAME#649,ORIGIN_COUNTRY_NAME#650,count#651] Batched: false, DataFilters: [], Format: CSV, Location: InMemoryFileIndex(1 paths)[dbfs:/FileStore/tables/2010_summary.csv], PartitionFilters: [], PushedFilters: [], ReadSchema: struct<DEST_COUNTRY_NAME:string,ORIGIN_COUNTRY_NAME:string,count:int>\n\n\n"
     ]
    }
   ],
   "source": [
    "flightData2010.sort('count').explain()"
   ]
  },
  {
   "cell_type": "code",
   "execution_count": 0,
   "metadata": {
    "application/vnd.databricks.v1+cell": {
     "cellMetadata": {
      "byteLimit": 2048000,
      "rowLimit": 10000
     },
     "inputWidgets": {},
     "nuid": "af5fdb42-78a8-4600-a6af-967f572807e1",
     "showTitle": false,
     "tableResultSettingsMap": {},
     "title": ""
    }
   },
   "outputs": [
    {
     "output_type": "stream",
     "name": "stdout",
     "output_type": "stream",
     "text": [
      "Out[9]: [Row(DEST_COUNTRY_NAME='Equatorial Guinea', ORIGIN_COUNTRY_NAME='United States', count=1),\n Row(DEST_COUNTRY_NAME='United States', ORIGIN_COUNTRY_NAME='Romania', count=1)]"
     ]
    }
   ],
   "source": [
    "my_spark.conf.set('spark.sql.shuffle.partitions', '5')\n",
    "flightData2010.sort('count').take(2)"
   ]
  },
  {
   "cell_type": "code",
   "execution_count": 0,
   "metadata": {
    "application/vnd.databricks.v1+cell": {
     "cellMetadata": {
      "byteLimit": 2048000,
      "rowLimit": 10000
     },
     "inputWidgets": {},
     "nuid": "f8c509db-d705-4e45-8dc9-4cf73ab1849d",
     "showTitle": false,
     "tableResultSettingsMap": {},
     "title": ""
    }
   },
   "outputs": [],
   "source": [
    "flightData2010.createOrReplaceTempView('flight_data_2010')"
   ]
  },
  {
   "cell_type": "code",
   "execution_count": 0,
   "metadata": {
    "application/vnd.databricks.v1+cell": {
     "cellMetadata": {
      "byteLimit": 2048000,
      "rowLimit": 10000
     },
     "inputWidgets": {},
     "nuid": "b4fd1993-49ce-49f1-85dd-1942d135930d",
     "showTitle": false,
     "tableResultSettingsMap": {},
     "title": ""
    }
   },
   "outputs": [
    {
     "output_type": "stream",
     "name": "stdout",
     "output_type": "stream",
     "text": [
      "== Physical Plan ==\nAdaptiveSparkPlan isFinalPlan=false\n+- HashAggregate(keys=[DEST_COUNTRY_NAME#649], functions=[finalmerge_count(merge count#690L) AS count(1)#678L])\n   +- Exchange hashpartitioning(DEST_COUNTRY_NAME#649, 5), ENSURE_REQUIREMENTS, [plan_id=909]\n      +- HashAggregate(keys=[DEST_COUNTRY_NAME#649], functions=[partial_count(1) AS count#690L])\n         +- FileScan csv [DEST_COUNTRY_NAME#649] Batched: false, DataFilters: [], Format: CSV, Location: InMemoryFileIndex(1 paths)[dbfs:/FileStore/tables/2010_summary.csv], PartitionFilters: [], PushedFilters: [], ReadSchema: struct<DEST_COUNTRY_NAME:string>\n\n\n== Physical Plan ==\nAdaptiveSparkPlan isFinalPlan=false\n+- HashAggregate(keys=[DEST_COUNTRY_NAME#649], functions=[finalmerge_count(merge count#692L) AS count(1)#685L])\n   +- Exchange hashpartitioning(DEST_COUNTRY_NAME#649, 5), ENSURE_REQUIREMENTS, [plan_id=930]\n      +- HashAggregate(keys=[DEST_COUNTRY_NAME#649], functions=[partial_count(1) AS count#692L])\n         +- FileScan csv [DEST_COUNTRY_NAME#649] Batched: false, DataFilters: [], Format: CSV, Location: InMemoryFileIndex(1 paths)[dbfs:/FileStore/tables/2010_summary.csv], PartitionFilters: [], PushedFilters: [], ReadSchema: struct<DEST_COUNTRY_NAME:string>\n\n\n"
     ]
    }
   ],
   "source": [
    "sql_way = my_spark.sql(\"\"\"SELECT DEST_COUNTRY_NAME, COUNT(1)\n",
    "                       FROM FLIGHT_DATA_2010\n",
    "                       GROUP BY DEST_COUNTRY_NAME\"\"\")\n",
    "dataFrameWay = flightData2010\\\n",
    "    .groupby('DEST_COUNTRY_NAME')\\\n",
    "        .count()\n",
    "\n",
    "sql_way.explain()\n",
    "dataFrameWay.explain()"
   ]
  },
  {
   "cell_type": "code",
   "execution_count": 0,
   "metadata": {
    "application/vnd.databricks.v1+cell": {
     "cellMetadata": {
      "byteLimit": 2048000,
      "rowLimit": 10000
     },
     "inputWidgets": {},
     "nuid": "fa1db4f7-29d5-488b-b744-7a3cd2599836",
     "showTitle": false,
     "tableResultSettingsMap": {},
     "title": ""
    }
   },
   "outputs": [
    {
     "output_type": "stream",
     "name": "stdout",
     "output_type": "stream",
     "text": [
      "Out[20]: [Row(max(count)=348113)]"
     ]
    }
   ],
   "source": [
    "my_spark.sql(\"SELECT MAX(COUNT) FROM FLIGHT_DATA_2010\").take(1)\n",
    "flightData2010.select(max('count')).take(1)"
   ]
  },
  {
   "cell_type": "code",
   "execution_count": 0,
   "metadata": {
    "application/vnd.databricks.v1+cell": {
     "cellMetadata": {
      "byteLimit": 2048000,
      "rowLimit": 10000
     },
     "inputWidgets": {},
     "nuid": "e1355722-bd02-4ce6-b4f5-52974c755ccf",
     "showTitle": false,
     "tableResultSettingsMap": {},
     "title": ""
    }
   },
   "outputs": [
    {
     "output_type": "stream",
     "name": "stdout",
     "output_type": "stream",
     "text": [
      "+-----------------+-----------------+\n|DEST_COUNTRY_NAME|DESTINATION_TOTAL|\n+-----------------+-----------------+\n|    United States|           384932|\n|           Canada|             8271|\n|           Mexico|             6200|\n|   United Kingdom|             1629|\n|          Germany|             1392|\n+-----------------+-----------------+\n\n"
     ]
    }
   ],
   "source": [
    "maxSql = my_spark.sql(\"\"\"SELECT DEST_COUNTRY_NAME, SUM(COUNT) AS DESTINATION_TOTAL\n",
    "                      FROM FLIGHT_DATA_2010\n",
    "                      GROUP BY DEST_COUNTRY_NAME\n",
    "                      ORDER BY SUM(COUNT) DESC\n",
    "                      LIMIT 5;\"\"\")\n",
    "maxSql.show()"
   ]
  },
  {
   "cell_type": "code",
   "execution_count": 0,
   "metadata": {
    "application/vnd.databricks.v1+cell": {
     "cellMetadata": {
      "byteLimit": 2048000,
      "rowLimit": 10000
     },
     "inputWidgets": {},
     "nuid": "a12f3f43-bf88-4423-8ba5-4d30daf61dce",
     "showTitle": false,
     "tableResultSettingsMap": {},
     "title": ""
    }
   },
   "outputs": [
    {
     "output_type": "stream",
     "name": "stdout",
     "output_type": "stream",
     "text": [
      "+-----------------+-----------------+\n|DEST_COUNTRY_NAME|destination_total|\n+-----------------+-----------------+\n|    United States|           384932|\n|           Canada|             8271|\n|           Mexico|             6200|\n|   United Kingdom|             1629|\n|          Germany|             1392|\n+-----------------+-----------------+\n\n"
     ]
    }
   ],
   "source": [
    "flightData2010\\\n",
    "    .groupby('DEST_COUNTRY_NAME')\\\n",
    "        .sum('count')\\\n",
    "            .withColumnRenamed('sum(count)', 'destination_total')\\\n",
    "                .sort(desc('destination_total'))\\\n",
    "                    .limit(5)\\\n",
    "                        .show()"
   ]
  },
  {
   "cell_type": "code",
   "execution_count": 0,
   "metadata": {
    "application/vnd.databricks.v1+cell": {
     "cellMetadata": {
      "byteLimit": 2048000,
      "rowLimit": 10000
     },
     "inputWidgets": {},
     "nuid": "046f5e97-e415-482e-a408-c9529433681a",
     "showTitle": false,
     "tableResultSettingsMap": {},
     "title": ""
    }
   },
   "outputs": [
    {
     "output_type": "stream",
     "name": "stdout",
     "output_type": "stream",
     "text": [
      "== Physical Plan ==\nAdaptiveSparkPlan isFinalPlan=false\n+- TakeOrderedAndProject(limit=5, orderBy=[destination_total#876L DESC NULLS LAST], output=[DEST_COUNTRY_NAME#649,destination_total#876L])\n   +- HashAggregate(keys=[DEST_COUNTRY_NAME#649], functions=[finalmerge_sum(merge sum#880L) AS sum(count#651)#872L])\n      +- Exchange hashpartitioning(DEST_COUNTRY_NAME#649, 5), ENSURE_REQUIREMENTS, [plan_id=1340]\n         +- HashAggregate(keys=[DEST_COUNTRY_NAME#649], functions=[partial_sum(count#651) AS sum#880L])\n            +- FileScan csv [DEST_COUNTRY_NAME#649,count#651] Batched: false, DataFilters: [], Format: CSV, Location: InMemoryFileIndex(1 paths)[dbfs:/FileStore/tables/2010_summary.csv], PartitionFilters: [], PushedFilters: [], ReadSchema: struct<DEST_COUNTRY_NAME:string,count:int>\n\n\n"
     ]
    }
   ],
   "source": [
    "flightData2010\\\n",
    "    .groupby('DEST_COUNTRY_NAME')\\\n",
    "        .sum('count')\\\n",
    "            .withColumnRenamed('sum(count)', 'destination_total')\\\n",
    "                .sort(desc('destination_total'))\\\n",
    "                    .limit(5)\\\n",
    "                        .explain()"
   ]
  }
 ],
 "metadata": {
  "application/vnd.databricks.v1+notebook": {
   "computePreferences": null,
   "dashboards": [],
   "environmentMetadata": {
    "base_environment": "",
    "environment_version": "1"
   },
   "inputWidgetPreferences": null,
   "language": "python",
   "notebookMetadata": {
    "pythonIndentUnit": 4
   },
   "notebookName": "Chapter 2 - A Gentle Introduction to Spark",
   "widgets": {}
  }
 },
 "nbformat": 4,
 "nbformat_minor": 0
}