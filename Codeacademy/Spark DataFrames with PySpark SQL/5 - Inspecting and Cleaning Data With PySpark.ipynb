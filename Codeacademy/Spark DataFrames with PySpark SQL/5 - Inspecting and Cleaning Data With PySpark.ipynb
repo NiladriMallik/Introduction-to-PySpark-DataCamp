{
 "cells": [
  {
   "cell_type": "code",
   "execution_count": null,
   "id": "8c1da223",
   "metadata": {
    "editable": false,
    "tags": [
     "setup"
    ]
   },
   "outputs": [],
   "source": [
    "from pyspark.sql import SparkSession\n",
    "\n",
    "spark = SparkSession.builder.appName(\"learning_spark_sql\").getOrCreate()\n",
    "\n",
    "# read in the Wikipedia unique visitors dataset\n",
    "uniq_views_df = spark.read\\\n",
    "    .option('header', True) \\\n",
    "    .option('delimiter', ',') \\\n",
    "    .option('inferSchema', True) \\\n",
    "    .csv(\"wiki_uniq_march_2022.csv\")"
   ]
  },
  {
   "cell_type": "markdown",
   "id": "f85a3a58",
   "metadata": {},
   "source": [
    "1. Print the DataFrame schema for `uniq_views_df`."
   ]
  },
  {
   "cell_type": "code",
   "execution_count": null,
   "id": "f2fd9ed0",
   "metadata": {
    "deletable": false,
    "tags": [
     "cp1"
    ]
   },
   "outputs": [],
   "source": [
    "## YOUR SOLUTION HERE ##\n",
    "uniq_views_df.printSchema()"
   ]
  },
  {
   "cell_type": "markdown",
   "id": "318ab8d4",
   "metadata": {},
   "source": [
    "2. Show a description of the data for `uniq_views_df`."
   ]
  },
  {
   "cell_type": "code",
   "execution_count": null,
   "id": "f9ea9121",
   "metadata": {
    "deletable": false,
    "tags": [
     "cp2"
    ]
   },
   "outputs": [],
   "source": [
    "## YOUR SOLUTION HERE ##\n",
    "uniq_views_df_desc = uniq_views_df.describe()\n",
    "\n",
    "# show summary\n",
    "uniq_views_df_desc.show()"
   ]
  },
  {
   "cell_type": "markdown",
   "id": "50f231c7",
   "metadata": {},
   "source": [
    "3. Drop the columns `total_visitor_count` and `uniq_bot_visitors`."
   ]
  },
  {
   "cell_type": "code",
   "execution_count": null,
   "id": "27411787",
   "metadata": {
    "deletable": false,
    "tags": [
     "cp3"
    ]
   },
   "outputs": [],
   "source": [
    "## YOUR SOLUTION HERE ##\n",
    "uniq_counts_human_df = uniq_views_df.drop('total_visitor_count','uniq_bot_visitors')\n",
    "\n",
    "# show the first 5 rows\n",
    "uniq_counts_human_df.show(5)"
   ]
  },
  {
   "cell_type": "markdown",
   "id": "e756d240",
   "metadata": {},
   "source": [
    "4. Rename `uniq_human_visitors` to `unique_site_visitors`."
   ]
  },
  {
   "cell_type": "code",
   "execution_count": null,
   "id": "6db9d490",
   "metadata": {
    "deletable": false,
    "tags": [
     "cp4"
    ]
   },
   "outputs": [],
   "source": [
    "## YOUR SOLUTION HERE ##\n",
    "uniq_counts_final_df = uniq_counts_human_df.withColumnRenamed('uniq_human_visitors', 'unique_site_visitors')\n",
    "\n",
    "# show the first 5 rows\n",
    "uniq_counts_final_df.show(5)"
   ]
  }
 ],
 "metadata": {
  "kernelspec": {
   "display_name": "Python 3 (ipykernel)",
   "language": "python",
   "name": "python3"
  },
  "language_info": {
   "codemirror_mode": {
    "name": "ipython",
    "version": 3
   },
   "file_extension": ".py",
   "mimetype": "text/x-python",
   "name": "python",
   "nbconvert_exporter": "python",
   "pygments_lexer": "ipython3",
   "version": "3.8.10"
  }
 },
 "nbformat": 4,
 "nbformat_minor": 5
}
