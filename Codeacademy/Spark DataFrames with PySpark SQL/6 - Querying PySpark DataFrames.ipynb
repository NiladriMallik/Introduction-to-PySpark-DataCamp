{
 "cells": [
  {
   "cell_type": "code",
   "execution_count": null,
   "id": "86a209e0",
   "metadata": {
    "editable": false,
    "tags": [
     "setup"
    ]
   },
   "outputs": [],
   "source": [
    "from pyspark.sql import SparkSession\n",
    "\n",
    "# Create a New SparkSession\n",
    "spark = SparkSession \\\n",
    "    .builder \\\n",
    "    .appName(\"learning_spark_sql\") \\\n",
    "    .getOrCreate()\n",
    "\n",
    "# Read in Wikipedia Unique Visitors Dataset\n",
    "wiki_uniq_df = spark.read\\\n",
    "    .option('header', True) \\\n",
    "    .option('delimiter', ',') \\\n",
    "    .option('inferSchema', True) \\\n",
    "    .csv(\"wiki_uniq_march_2022_w_site_type.csv\")"
   ]
  },
  {
   "cell_type": "markdown",
   "id": "388b1337",
   "metadata": {},
   "source": [
    "1. Filter the DataFrame to sites with `language_code` is `\"ar\"`."
   ]
  },
  {
   "cell_type": "code",
   "execution_count": null,
   "id": "9a98c26a",
   "metadata": {
    "deletable": false,
    "tags": [
     "cp1"
    ]
   },
   "outputs": [],
   "source": [
    "## YOUR SOLUTION HERE ##\n",
    "ar_site_visitors = wiki_uniq_df\\\n",
    "    .filter(wiki_uniq_df.language_code == 'ar')\n",
    "\n",
    "# show the DataFrame\n",
    "ar_site_visitors.show()"
   ]
  },
  {
   "cell_type": "markdown",
   "id": "1896ef41",
   "metadata": {},
   "source": [
    "2. Filter the DataFrame to sites with `language_code` is `\"ar\"` and keep only the columns `domain` and `uniq_human_visitors`. "
   ]
  },
  {
   "cell_type": "code",
   "execution_count": null,
   "id": "b647393d",
   "metadata": {
    "deletable": false,
    "tags": [
     "cp2"
    ]
   },
   "outputs": [],
   "source": [
    "## YOUR SOLUTION HERE ##\n",
    "ar_visitors_slim = wiki_uniq_df\\\n",
    "    .select(['domain', 'uniq_human_visitors'])\\\n",
    "    .filter(wiki_uniq_df.language_code == 'ar')\n",
    "\n",
    "# show the DataFrame\n",
    "ar_visitors_slim.show()"
   ]
  },
  {
   "cell_type": "markdown",
   "id": "9833e75f",
   "metadata": {},
   "source": [
    "3. Calculate the sum of all `uniq_human_visitors` grouped by `site_type` and ordered from highest to lowest page views."
   ]
  },
  {
   "cell_type": "code",
   "execution_count": null,
   "id": "ef1a1e1d",
   "metadata": {
    "deletable": false,
    "tags": [
     "cp3"
    ]
   },
   "outputs": [],
   "source": [
    "## YOUR SOLUTION HERE ##\n",
    "top_visitors_site_type = wiki_uniq_df.select(['site_type', 'uniq_human_visitors'])\\\n",
    "    .groupBy('site_type')\\\n",
    "    .sum()\\\n",
    "    .orderBy('sum(uniq_human_visitors)', ascending=False)\n",
    "\n",
    "# show the DataFrame\n",
    "top_visitors_site_type.show()"
   ]
  }
 ],
 "metadata": {
  "kernelspec": {
   "display_name": "Python 3 (ipykernel)",
   "language": "python",
   "name": "python3"
  },
  "language_info": {
   "codemirror_mode": {
    "name": "ipython",
    "version": 3
   },
   "file_extension": ".py",
   "mimetype": "text/x-python",
   "name": "python",
   "nbconvert_exporter": "python",
   "pygments_lexer": "ipython3",
   "version": "3.8.10"
  }
 },
 "nbformat": 4,
 "nbformat_minor": 5
}
