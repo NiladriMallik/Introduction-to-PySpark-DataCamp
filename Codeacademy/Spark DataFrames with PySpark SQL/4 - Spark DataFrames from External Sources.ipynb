{
 "cells": [
  {
   "cell_type": "code",
   "execution_count": null,
   "id": "26e04bbd",
   "metadata": {
    "editable": false,
    "tags": [
     "setup"
    ]
   },
   "outputs": [],
   "source": [
    "from pyspark.sql import SparkSession\n",
    "\n",
    "# Create a new SparkSession\n",
    "spark = SparkSession.builder.config('spark.app.name', 'learning_spark_sql').getOrCreate()"
   ]
  },
  {
   "cell_type": "markdown",
   "id": "96bafc7c",
   "metadata": {},
   "source": [
    "1. Read in the CSV file without any specific read options specified and show the top 10 rows."
   ]
  },
  {
   "cell_type": "code",
   "execution_count": null,
   "id": "308a93d5",
   "metadata": {
    "deletable": false,
    "tags": [
     "cp1"
    ]
   },
   "outputs": [],
   "source": [
    "## YOUR SOLUTION HERE ##\n",
    "wiki_uniq_df = spark.read.csv('wiki_uniq_march_2022.csv')\n",
    "\n",
    "# show the first 10 rows\n",
    "wiki_uniq_df.show(10, truncate=False)"
   ]
  },
  {
   "cell_type": "markdown",
   "id": "18e9b2c6",
   "metadata": {},
   "source": [
    "2. Read in the CSV file with an option to treat the first row as a header and show the top 10 rows."
   ]
  },
  {
   "cell_type": "code",
   "execution_count": null,
   "id": "95d0b28d",
   "metadata": {
    "deletable": false,
    "tags": [
     "cp2"
    ]
   },
   "outputs": [],
   "source": [
    "## YOUR SOLUTION HERE ##\n",
    "wiki_uniq_w_header_df = spark.read.option('header', True).csv('wiki_uniq_march_2022.csv')\n",
    "\n",
    "# show the first 10 rows\n",
    "wiki_uniq_w_header_df.show(10, truncate=False)"
   ]
  },
  {
   "cell_type": "markdown",
   "id": "ec6bfdff",
   "metadata": {},
   "source": [
    "3. Check the data types of `wiki_uniq_w_header_df`."
   ]
  },
  {
   "cell_type": "code",
   "execution_count": null,
   "id": "13eef2cc",
   "metadata": {
    "deletable": false,
    "tags": [
     "cp3"
    ]
   },
   "outputs": [],
   "source": [
    "# show the data types\n",
    "wiki_uniq_w_header_df.dtypes"
   ]
  },
  {
   "cell_type": "markdown",
   "id": "5093025b",
   "metadata": {},
   "source": [
    "4. Read in the CSV file with an option to treat the first row as a header and infer the schema. Then check the data types of `wiki_uniq_w_schema_df`."
   ]
  },
  {
   "cell_type": "code",
   "execution_count": null,
   "id": "8c0d0420",
   "metadata": {
    "deletable": false,
    "tags": [
     "cp4"
    ]
   },
   "outputs": [],
   "source": [
    "## YOUR SOLUTION HERE ##\n",
    "wiki_uniq_w_schema_df = spark\\\n",
    "    .read\\\n",
    "    .option('header', True)\\\n",
    "    .option('inferSchema', True)\\\n",
    "    .csv('wiki_uniq_march_2022.csv')\n",
    "\n",
    "# show the data types\n",
    "wiki_uniq_w_schema_df.dtypes"
   ]
  }
 ],
 "metadata": {
  "kernelspec": {
   "display_name": "Python 3 (ipykernel)",
   "language": "python",
   "name": "python3"
  },
  "language_info": {
   "codemirror_mode": {
    "name": "ipython",
    "version": 3
   },
   "file_extension": ".py",
   "mimetype": "text/x-python",
   "name": "python",
   "nbconvert_exporter": "python",
   "pygments_lexer": "ipython3",
   "version": "3.8.10"
  }
 },
 "nbformat": 4,
 "nbformat_minor": 5
}
